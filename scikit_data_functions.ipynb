{
 "cells": [
  {
   "cell_type": "code",
   "execution_count": 5,
   "metadata": {},
   "outputs": [
    {
     "name": "stdout",
     "output_type": "stream",
     "text": [
      "This is df \n",
      ":      CHROM     POS           ID  REF ALT_1 ALT_2 ALT_3   QUAL  FILTER_PASS\n",
      "0        9   10163            .   CT     C   NaN   NaN  100.0         True\n",
      "1        9   10273            .  AAC     A   NaN   NaN  100.0         True\n",
      "2        9   10327            .    T     C   NaN   NaN  100.0         True\n",
      "3        9   10329            .    A     G   NaN   NaN  100.0         True\n",
      "4        9   10362  rs141734683    C    CT   NaN   NaN  100.0         True\n",
      "...    ...     ...          ...  ...   ...   ...   ...    ...          ...\n",
      "1743     9  102730  rs139336184    T     C   NaN   NaN  100.0         True\n",
      "1744     9  102770  rs144149065    T     C   NaN   NaN  100.0         True\n",
      "1745     9  102798  rs186477530    A     G   NaN   NaN  100.0         True\n",
      "1746     9  102814            .    T     A   NaN   NaN  100.0         True\n",
      "1747     9  102827            .    G     T   NaN   NaN  100.0         True\n",
      "\n",
      "[1748 rows x 9 columns]\n",
      "These are the data keys: \n",
      " dict_keys(['samples', 'calldata/GT', 'variants/ALT', 'variants/CHROM', 'variants/FILTER_PASS', 'variants/ID', 'variants/POS', 'variants/QUAL', 'variants/REF'])\n",
      "Size =  15732\n",
      "Shape (num rows & cols) =  (1748, 9)\n",
      "Dimensions =  2\n",
      "------\n",
      "\n",
      "this is 'new_df': \n",
      "     CHROM    POS           ID  REF ALT_1 ALT_2 ALT_3   QUAL  FILTER_PASS\n",
      "0      9  10163            .   CT     C   NaN   NaN  100.0         True\n",
      "1      9  10273            .  AAC     A   NaN   NaN  100.0         True\n",
      "2      9  10327            .    T     C   NaN   NaN  100.0         True\n",
      "3      9  10329            .    A     G   NaN   NaN  100.0         True\n",
      "4      9  10362  rs141734683    C    CT   NaN   NaN  100.0         True\n",
      "..   ...    ...          ...  ...   ...   ...   ...    ...          ...\n",
      "76     9  14880            .    G     A   NaN   NaN  100.0         True\n",
      "77     9  14885            .    G     A   NaN   NaN  100.0         True\n",
      "78     9  14886            .    C     T   NaN   NaN  100.0         True\n",
      "79     9  14889   rs71509924    A     G   NaN   NaN  100.0         True\n",
      "80     9  14954            .    G     C   NaN   NaN  100.0         True\n",
      "\n",
      "[81 rows x 9 columns]\n",
      "------\n",
      "This is 'new_df_qual. index': \n",
      " Index([ 0, 57, 56, 55, 54, 53, 52, 51, 58, 50, 48, 47, 46, 45, 44, 43, 42, 49,\n",
      "       59, 60, 61, 78, 77, 76, 75, 74, 73, 72, 71, 70, 69, 68, 67, 66, 65, 64,\n",
      "       63, 62, 41, 79, 40, 38, 16, 15, 14, 13, 12, 11, 10, 17,  9,  7,  6,  5,\n",
      "        4,  3,  2,  1,  8, 18, 19, 20, 37, 36, 35, 34, 33, 32, 31, 30, 29, 28,\n",
      "       27, 26, 25, 24, 23, 22, 21, 39, 80],\n",
      "      dtype='int64')\n",
      "------\n",
      "This is 'new_df_POS. index': \n",
      " Index([ 0,  1,  2,  3,  4,  5,  6,  7,  8,  9, 10, 11, 12, 13, 14, 15, 16, 17,\n",
      "       18, 19, 20, 21, 22, 23, 24, 25, 26, 27, 28, 29, 30, 31, 32, 33, 34, 35,\n",
      "       36, 37, 38, 39, 40, 41, 42, 43, 44, 45, 46, 47, 48, 49, 50, 51, 52, 53,\n",
      "       54, 55, 56, 57, 58, 59, 60, 61, 62, 63, 64, 65, 66, 67, 68, 69, 70, 71,\n",
      "       72, 73, 74, 75, 76, 77, 78, 79, 80],\n",
      "      dtype='int64')\n"
     ]
    }
   ],
   "source": [
    "#From VCF Test\n",
    "# Simple script that contains tools for testing vcf file reading and writing \n",
    "\n",
    "import allel as al # Used for VCF file manipulation\n",
    "import os\n",
    "\n",
    "TEST_FILE = os.path.realpath(\"./Data/afr-small.vcf\") # Path to the vcf file used for testing\n",
    "\n",
    "def getData()->dict:\n",
    "    return al.read_vcf(TEST_FILE)\n",
    "\n",
    "\n",
    "if __name__ == \"__main__\":\n",
    "    data = getData()\n",
    "    df = al.vcf_to_dataframe(TEST_FILE)\n",
    "    print(\"This is df \\n:\", df)\n",
    "    print(\"These are the data keys: \\n\", data.keys())\n",
    "    print(\"Size = \",df.size)\n",
    "    print(\"Shape (num rows & cols) = \",df.shape)\n",
    "    print(\"Dimensions = \", df.ndim)\n",
    "    \n",
    "    # Searches the \"QUAL\" col for data of a quality: 30% < data <35%, and at a \"POS\" lower than 15 000\n",
    "    bool_search = (df[\"QUAL\"].between(30, 35, inclusive = 'both')) & (df[\"POS\"]<15000)\n",
    "    bool_search = (df[\"POS\"]<15000)\n",
    "    \n",
    "    new_df = df[bool_search]\n",
    "    print(\"------\\n\\nthis is 'new_df': \\n \", new_df)  # Size = 0\n",
    "    new_df_qual = new_df.sort_values(by=[\"QUAL\"], ascending=True)\n",
    "    new_df_POS = new_df.sort_values(by=[\"POS\"], ascending=True)\n",
    "    \n",
    "\n",
    "    print(\"------\\nThis is 'new_df_qual. index': \\n\", new_df_qual.index) #Query the indexes from the dataframe \n",
    "    print(\"------\\nThis is 'new_df_POS. index': \\n\", new_df_POS.index) #Query the indexes from the dataframe \n",
    "    \n",
    "    # print(\"------\\nThis is 'new_df_POS. index': \\n\", new_df_REF) #Query the indexes from the dataframe \n",
    "    # print(\"------\\nThis is 'new_df_REF_A': \\n\", new_df_REF_A) \n",
    "    # print(\"------\\nThis is 'new_df_REF_A indexes': \\n\", new_df_REF_A.index) \n",
    "     \n",
    "    # Use the dataframe index to access rows (or columns) for the genotype array\n",
    "    #print(al.GenotypeArray(data['calldata/GT'])[new_df.index,:])\n",
    "\n",
    "    #print(len(max(data['variants/REF'], key=len)))\n",
    "    # print((max(data['variants/REF'], key=len)))\n",
    "    # print(len(data['variants/REF']))\n",
    "    #print(data['samples'])"
   ]
  },
  {
   "cell_type": "markdown",
   "metadata": {},
   "source": [
    " #### Only for REF containing A:"
   ]
  },
  {
   "cell_type": "code",
   "execution_count": 6,
   "metadata": {},
   "outputs": [
    {
     "name": "stdout",
     "output_type": "stream",
     "text": [
      "------\n",
      "This is 'new_df_REF_A': \n",
      "    CHROM    POS           ID REF ALT_1 ALT_2 ALT_3   QUAL  FILTER_PASS\n",
      "55     9  13953            .   A     G   NaN   NaN  100.0         True\n",
      "32     9  10892            .   A     G   NaN   NaN  100.0         True\n",
      "3      9  10329            .   A     G   NaN   NaN  100.0         True\n",
      "35     9  10960            .   A     T   NaN   NaN  100.0         True\n",
      "49     9  12306  rs201304119   A     C   NaN   NaN  100.0         True\n",
      "60     9  14323            .   A     C   NaN   NaN  100.0         True\n",
      "75     9  14863   rs71509923   A     C     G   NaN  100.0         True\n",
      "79     9  14889   rs71509924   A     G   NaN   NaN  100.0         True\n",
      "------\n",
      "This is 'new_df_REF_A indexes': \n",
      " Index([55, 32, 3, 35, 49, 60, 75, 79], dtype='int64')\n"
     ]
    }
   ],
   "source": [
    "df_REF = new_df.sort_values(by=[\"REF\"], ascending=True)\n",
    "df_REF_A = df_REF[df_REF['REF'].isin(['A'])]\n",
    "\n",
    "\n",
    "# print(\"------\\nThis is 'new_df_qual. index': \\n\", new_df_qual.index) #Query the indexes from the dataframe \n",
    "# print(\"------\\nThis is 'new_df_POS. index': \\n\", new_df_POS.index) #Query the indexes from the dataframe \n",
    "# print(\"------\\nThis is 'new_df_REF. index': \\n\", new_df_REF) #Sorts the dataframe according to REF alphabetically \n",
    "print(\"------\\nThis is 'new_df_REF_A': \\n\", df_REF_A) \n",
    "print(\"------\\nThis is 'new_df_REF_A indexes': \\n\", df_REF_A.index) "
   ]
  },
  {
   "cell_type": "markdown",
   "metadata": {},
   "source": [
    " #### Only for REF containing C:"
   ]
  },
  {
   "cell_type": "code",
   "execution_count": 7,
   "metadata": {},
   "outputs": [
    {
     "name": "stdout",
     "output_type": "stream",
     "text": [
      "------\n",
      "This is 'df_C': \n",
      "      CHROM     POS           ID REF ALT_1 ALT_2 ALT_3   QUAL  FILTER_PASS\n",
      "4        9   10362  rs141734683   C    CT   NaN   NaN  100.0         True\n",
      "9        9   10559            .   C     G   NaN   NaN  100.0         True\n",
      "11       9   10582            .   C     G   NaN   NaN  100.0         True\n",
      "12       9   10583            .   C     T   NaN   NaN  100.0         True\n",
      "15       9   10594            .   C     T   NaN   NaN  100.0         True\n",
      "...    ...     ...          ...  ..   ...   ...   ...    ...          ...\n",
      "1729     9  102508  rs191648706   C     T   NaN   NaN  100.0         True\n",
      "1731     9  102562            .   C     G   NaN   NaN  100.0         True\n",
      "1737     9  102702   rs62532145   C     T   NaN   NaN  100.0         True\n",
      "1739     9  102716            .   C     A   NaN   NaN  100.0         True\n",
      "1741     9  102727            .   C     T   NaN   NaN  100.0         True\n",
      "\n",
      "[477 rows x 9 columns]\n",
      "------\n",
      "This is 'df_C indexes': \n",
      " Index([   4,    9,   11,   12,   15,   17,   19,   20,   24,   26,\n",
      "       ...\n",
      "       1713, 1717, 1718, 1722, 1726, 1729, 1731, 1737, 1739, 1741],\n",
      "      dtype='int64', length=477)\n"
     ]
    }
   ],
   "source": [
    "#df_REF_C = df_REF[df_REF['REF'].isin(['C'])] #uses a scatter method, therefore random index order\n",
    "##.loc is better b/c ascending\n",
    "df_C = df.loc[df['REF'] =='C']\n",
    "\n",
    "#print(\"------\\nThis is 'new_df_REF_C': \\n\", df_REF_C)\n",
    "print(\"------\\nThis is 'df_C': \\n\", df_C) \n",
    "print(\"------\\nThis is 'df_C indexes': \\n\", df_C.index) "
   ]
  },
  {
   "cell_type": "markdown",
   "metadata": {},
   "source": [
    " #### Only for REF containing G:"
   ]
  },
  {
   "cell_type": "code",
   "execution_count": 8,
   "metadata": {},
   "outputs": [
    {
     "name": "stdout",
     "output_type": "stream",
     "text": [
      "------\n",
      "This is 'new_df_REF_C': \n",
      "    CHROM    POS           ID REF ALT_1 ALT_2 ALT_3   QUAL  FILTER_PASS\n",
      "48     9  12129            .   G     T   NaN   NaN  100.0         True\n",
      "68     9  14765            .   G     A   NaN   NaN  100.0         True\n",
      "54     9  12982            .   G     A   NaN   NaN  100.0         True\n",
      "69     9  14782            .   G     C   NaN   NaN  100.0         True\n",
      "70     9  14784            .   G     A   NaN   NaN  100.0         True\n",
      "72     9  14822            .   G     A   NaN   NaN  100.0         True\n",
      "74     9  14859  rs377032602   G     A   NaN   NaN  100.0         True\n",
      "76     9  14880            .   G     A   NaN   NaN  100.0         True\n",
      "77     9  14885            .   G     A   NaN   NaN  100.0         True\n",
      "57     9  14157            .   G     C   NaN   NaN  100.0         True\n",
      "66     9  14723            .   G     A   NaN   NaN  100.0         True\n",
      "40     9  11369            .   G     C   NaN   NaN  100.0         True\n",
      "27     9  10765            .   G     C   NaN   NaN  100.0         True\n",
      "5      9  10469   rs56377469   G     C   NaN   NaN  100.0         True\n",
      "7      9  10513            .   G     A   NaN   NaN  100.0         True\n",
      "8      9  10548            .   G     A   NaN   NaN  100.0         True\n",
      "10     9  10566            .   G     A   NaN   NaN  100.0         True\n",
      "13     9  10590            .   G     A   NaN   NaN  100.0         True\n",
      "16     9  10597            .   G     T   NaN   NaN  100.0         True\n",
      "18     9  10623            .   G     C   NaN   NaN  100.0         True\n",
      "21     9  10670            .   G     C   NaN   NaN  100.0         True\n",
      "22     9  10684            .   G     T   NaN   NaN  100.0         True\n",
      "23     9  10690  rs143946323   G     A   NaN   NaN  100.0         True\n",
      "25     9  10722            .   G     A   NaN   NaN  100.0         True\n",
      "28     9  10775            .   G     C   NaN   NaN  100.0         True\n",
      "80     9  14954            .   G     C   NaN   NaN  100.0         True\n",
      "38     9  11298            .   G     A   NaN   NaN  100.0         True\n",
      "30     9  10788            .   G     A   NaN   NaN  100.0         True\n",
      "31     9  10821            .   G     C   NaN   NaN  100.0         True\n",
      "44     9  11739            .   G     A   NaN   NaN  100.0         True\n",
      "43     9  11483            .   G     A   NaN   NaN  100.0         True\n",
      "34     9  10908            .   G     A   NaN   NaN  100.0         True\n",
      "37     9  11076            .   G     A   NaN   NaN  100.0         True\n",
      "42     9  11425            .   G     C   NaN   NaN  100.0         True\n",
      "41     9  11379            .   G     C   NaN   NaN  100.0         True\n",
      "39     9  11309            .   G     T   NaN   NaN  100.0         True\n",
      "------\n",
      "This is 'new_df_REF_C indexes': \n",
      " Index([48, 68, 54, 69, 70, 72, 74, 76, 77, 57, 66, 40, 27,  5,  7,  8, 10, 13,\n",
      "       16, 18, 21, 22, 23, 25, 28, 80, 38, 30, 31, 44, 43, 34, 37, 42, 41, 39],\n",
      "      dtype='int64')\n"
     ]
    }
   ],
   "source": [
    "df_REF_G = df_REF[df_REF['REF'].isin(['G'])]\n",
    "\n",
    "print(\"------\\nThis is 'new_df_REF_C': \\n\", df_REF_G) \n",
    "print(\"------\\nThis is 'new_df_REF_C indexes': \\n\", df_REF_G.index) "
   ]
  },
  {
   "cell_type": "markdown",
   "metadata": {},
   "source": [
    " #### Only for REF containing T:"
   ]
  },
  {
   "cell_type": "code",
   "execution_count": 9,
   "metadata": {},
   "outputs": [
    {
     "name": "stdout",
     "output_type": "stream",
     "text": [
      "------\n",
      "This is 'new_df_REF_C': \n",
      "    CHROM    POS ID REF ALT_1 ALT_2 ALT_3   QUAL  FILTER_PASS\n",
      "2      9  10327  .   T     C   NaN   NaN  100.0         True\n",
      "6      9  10498  .   T     A   NaN   NaN  100.0         True\n",
      "61     9  14326  .   T     C   NaN   NaN  100.0         True\n",
      "29     9  10784  .   T     A   NaN   NaN  100.0         True\n",
      "67     9  14741  .   T     A   NaN   NaN  100.0         True\n",
      "56     9  13962  .   T     C   NaN   NaN  100.0         True\n",
      "33     9  10894  .   T     C   NaN   NaN  100.0         True\n",
      "46     9  12033  .   T     C   NaN   NaN  100.0         True\n",
      "14     9  10593  .   T     C   NaN   NaN  100.0         True\n",
      "45     9  11981  .   T     C   NaN   NaN  100.0         True\n",
      "------\n",
      "This is 'new_df_REF_C indexes': \n",
      " Index([2, 6, 61, 29, 67, 56, 33, 46, 14, 45], dtype='int64')\n"
     ]
    }
   ],
   "source": [
    "df_REF_T = df_REF[df_REF['REF'].isin(['T'])]\n",
    "\n",
    "print(\"------\\nThis is 'new_df_REF_C': \\n\", df_REF_T) \n",
    "print(\"------\\nThis is 'new_df_REF_C indexes': \\n\", df_REF_T.index) "
   ]
  },
  {
   "cell_type": "markdown",
   "metadata": {},
   "source": [
    "### Exclude REF nucleotide sequences:"
   ]
  },
  {
   "cell_type": "code",
   "execution_count": 10,
   "metadata": {},
   "outputs": [
    {
     "name": "stdout",
     "output_type": "stream",
     "text": [
      "     CHROM    POS           ID           REF      ALT_1          ALT_2 ALT_3  \\\n",
      "0        9  10163            .            CT          C            NaN   NaN   \n",
      "1        9  10273            .           AAC          A            NaN   NaN   \n",
      "131      9  17614  rs202192731            CT          C            NaN   NaN   \n",
      "358      9  45079   rs55984476            TC          T            NaN   NaN   \n",
      "472      9  48464  rs113606208         ACATC          A            NaN   NaN   \n",
      "560      9  52625            .            CA        CAA              C   NaN   \n",
      "636      9  56012            .            GT          G            NaN   NaN   \n",
      "726      9  59000            .        GTCTTC          G            NaN   NaN   \n",
      "733      9  59345  rs202157231            TC          T            NaN   NaN   \n",
      "750      9  60411            .            AT          A            NaN   NaN   \n",
      "779      9  61163            .           GGA        AGA              G   NaN   \n",
      "856      9  63639  rs199798080           AAC          A            NaN   NaN   \n",
      "892      9  67670            .            CA        CAA              C   NaN   \n",
      "901      9  68073            .            TA          T            NaN   NaN   \n",
      "991      9  73544  rs200295462            GC          G            NaN   NaN   \n",
      "998      9  73761            .   TCCGGGGCGCA          T            NaN   NaN   \n",
      "1044     9  75464  rs149230883            GT          G            NaN   NaN   \n",
      "1051     9  75837            .            AC          A            NaN   NaN   \n",
      "1065     9  76444  rs147918543            TC          T            NaN   NaN   \n",
      "1110     9  79966            .            AT        ATT              A   NaN   \n",
      "1160     9  81870            .            TC          T            NaN   NaN   \n",
      "1162     9  81959            .            CT          C            NaN   NaN   \n",
      "1243     9  83696            .            CG          C            NaN   NaN   \n",
      "1313     9  86683  rs202222721            TA          T            NaN   NaN   \n",
      "1378     9  89731            .            AT          A            NaN   NaN   \n",
      "1386     9  90206            .            CT          C            NaN   NaN   \n",
      "1414     9  91184  rs199547999  ATTTTTAAATAG          A            NaN   NaN   \n",
      "1415     9  91267            .         ATTAC          A            NaN   NaN   \n",
      "1435     9  92096            .         AAAAC  AAAACAAAC  AAAACAAACAAAC     A   \n",
      "1558     9  97133  rs201012520            AT          A            NaN   NaN   \n",
      "1569     9  97382            .         CAATA          C            NaN   NaN   \n",
      "1605     9  98656            .            AC          A            NaN   NaN   \n",
      "\n",
      "       QUAL  FILTER_PASS  \n",
      "0     100.0         True  \n",
      "1     100.0         True  \n",
      "131   100.0         True  \n",
      "358   100.0         True  \n",
      "472   100.0         True  \n",
      "560   100.0         True  \n",
      "636   100.0         True  \n",
      "726   100.0         True  \n",
      "733   100.0         True  \n",
      "750   100.0         True  \n",
      "779   100.0         True  \n",
      "856   100.0         True  \n",
      "892   100.0         True  \n",
      "901   100.0         True  \n",
      "991   100.0         True  \n",
      "998   100.0         True  \n",
      "1044  100.0         True  \n",
      "1051  100.0         True  \n",
      "1065  100.0         True  \n",
      "1110  100.0         True  \n",
      "1160  100.0         True  \n",
      "1162  100.0         True  \n",
      "1243  100.0         True  \n",
      "1313  100.0         True  \n",
      "1378  100.0         True  \n",
      "1386  100.0         True  \n",
      "1414  100.0         True  \n",
      "1415  100.0         True  \n",
      "1435  100.0         True  \n",
      "1558  100.0         True  \n",
      "1569  100.0         True  \n",
      "1605  100.0         True  \n",
      "=========================\n"
     ]
    },
    {
     "name": "stdout",
     "output_type": "stream",
     "text": [
      "     CHROM    POS           ID           REF      ALT_1          ALT_2 ALT_3  \\\n",
      "0        9  10163            .            CT          C            NaN   NaN   \n",
      "1        9  10273            .           AAC          A            NaN   NaN   \n",
      "131      9  17614  rs202192731            CT          C            NaN   NaN   \n",
      "358      9  45079   rs55984476            TC          T            NaN   NaN   \n",
      "472      9  48464  rs113606208         ACATC          A            NaN   NaN   \n",
      "560      9  52625            .            CA        CAA              C   NaN   \n",
      "636      9  56012            .            GT          G            NaN   NaN   \n",
      "726      9  59000            .        GTCTTC          G            NaN   NaN   \n",
      "733      9  59345  rs202157231            TC          T            NaN   NaN   \n",
      "750      9  60411            .            AT          A            NaN   NaN   \n",
      "779      9  61163            .           GGA        AGA              G   NaN   \n",
      "856      9  63639  rs199798080           AAC          A            NaN   NaN   \n",
      "892      9  67670            .            CA        CAA              C   NaN   \n",
      "901      9  68073            .            TA          T            NaN   NaN   \n",
      "991      9  73544  rs200295462            GC          G            NaN   NaN   \n",
      "998      9  73761            .   TCCGGGGCGCA          T            NaN   NaN   \n",
      "1044     9  75464  rs149230883            GT          G            NaN   NaN   \n",
      "1051     9  75837            .            AC          A            NaN   NaN   \n",
      "1065     9  76444  rs147918543            TC          T            NaN   NaN   \n",
      "1110     9  79966            .            AT        ATT              A   NaN   \n",
      "1160     9  81870            .            TC          T            NaN   NaN   \n",
      "1162     9  81959            .            CT          C            NaN   NaN   \n",
      "1243     9  83696            .            CG          C            NaN   NaN   \n",
      "1313     9  86683  rs202222721            TA          T            NaN   NaN   \n",
      "1378     9  89731            .            AT          A            NaN   NaN   \n",
      "1386     9  90206            .            CT          C            NaN   NaN   \n",
      "1414     9  91184  rs199547999  ATTTTTAAATAG          A            NaN   NaN   \n",
      "1415     9  91267            .         ATTAC          A            NaN   NaN   \n",
      "1435     9  92096            .         AAAAC  AAAACAAAC  AAAACAAACAAAC     A   \n",
      "1558     9  97133  rs201012520            AT          A            NaN   NaN   \n",
      "1569     9  97382            .         CAATA          C            NaN   NaN   \n",
      "1605     9  98656            .            AC          A            NaN   NaN   \n",
      "\n",
      "       QUAL  FILTER_PASS  \n",
      "0     100.0         True  \n",
      "1     100.0         True  \n",
      "131   100.0         True  \n",
      "358   100.0         True  \n",
      "472   100.0         True  \n",
      "560   100.0         True  \n",
      "636   100.0         True  \n",
      "726   100.0         True  \n",
      "733   100.0         True  \n",
      "750   100.0         True  \n",
      "779   100.0         True  \n",
      "856   100.0         True  \n",
      "892   100.0         True  \n",
      "901   100.0         True  \n",
      "991   100.0         True  \n",
      "998   100.0         True  \n",
      "1044  100.0         True  \n",
      "1051  100.0         True  \n",
      "1065  100.0         True  \n",
      "1110  100.0         True  \n",
      "1160  100.0         True  \n",
      "1162  100.0         True  \n",
      "1243  100.0         True  \n",
      "1313  100.0         True  \n",
      "1378  100.0         True  \n",
      "1386  100.0         True  \n",
      "1414  100.0         True  \n",
      "1415  100.0         True  \n",
      "1435  100.0         True  \n",
      "1558  100.0         True  \n",
      "1569  100.0         True  \n",
      "1605  100.0         True  \n",
      "-------------\n",
      "\n",
      "      CHROM    POS           ID           REF      ALT_1          ALT_2 ALT_3  \\\n",
      "1        9  10273            .           AAC          A            NaN   NaN   \n",
      "472      9  48464  rs113606208         ACATC          A            NaN   NaN   \n",
      "726      9  59000            .        GTCTTC          G            NaN   NaN   \n",
      "779      9  61163            .           GGA        AGA              G   NaN   \n",
      "856      9  63639  rs199798080           AAC          A            NaN   NaN   \n",
      "998      9  73761            .   TCCGGGGCGCA          T            NaN   NaN   \n",
      "1414     9  91184  rs199547999  ATTTTTAAATAG          A            NaN   NaN   \n",
      "1415     9  91267            .         ATTAC          A            NaN   NaN   \n",
      "1435     9  92096            .         AAAAC  AAAACAAAC  AAAACAAACAAAC     A   \n",
      "1569     9  97382            .         CAATA          C            NaN   NaN   \n",
      "\n",
      "       QUAL  FILTER_PASS  \n",
      "1     100.0         True  \n",
      "472   100.0         True  \n",
      "726   100.0         True  \n",
      "779   100.0         True  \n",
      "856   100.0         True  \n",
      "998   100.0         True  \n",
      "1414  100.0         True  \n",
      "1415  100.0         True  \n",
      "1435  100.0         True  \n",
      "1569  100.0         True  \n"
     ]
    }
   ],
   "source": [
    "#filtering out single allele mutations:\n",
    "#noA = (df_REF_A.index.sort_values(ascending=True))\n",
    "#noC = (df_REF_C.index.sort_values(ascending=True))\n",
    "#noG = (df_REF_G.index.sort_values(ascending=True))\n",
    "#noT = (df_REF_T.index.sort_values(ascending=True))\n",
    "\n",
    "nuc_list = ['A','C','G','T']\n",
    "noACGT = df[df[\"REF\"].isin(nuc_list)==False] # df_REF_G.index and df_REF_T.index)\n",
    "print(noACGT)\n",
    "print(\"=========================\")\n",
    "only_long = df[[len(ref)>1 for ref in df[\"REF\"]]]\n",
    "long_2 = df[[len(ref)>2 for ref in df[\"REF\"]]]\n",
    "print(only_long)\n",
    "print(\"-------------\\n\\n\",long_2)\n",
    "# print(\"A: \\n\",noA, \"\\n\")\n",
    "# print(\"A rows: \\n\", df_REF_A[0 :]  )\n",
    "# print(\"C: \\n\",noC, \"\\n\")\n",
    "# print(\"G: \\n\",noG, \"\\n\")\n",
    "# print(\"T: \\n\",noT, \"\\n\")"
   ]
  },
  {
   "cell_type": "markdown",
   "metadata": {},
   "source": [
    "#### Plotting Variant Density:"
   ]
  },
  {
   "cell_type": "code",
   "execution_count": 11,
   "metadata": {},
   "outputs": [
    {
     "name": "stdout",
     "output_type": "stream",
     "text": [
      "scikit-allel 1.3.11\n",
      "     CHROM     POS           ID  REF ALT_1 ALT_2 ALT_3   QUAL  FILTER_PASS\n",
      "0        9   10163            .   CT     C   NaN   NaN  100.0         True\n",
      "1        9   10273            .  AAC     A   NaN   NaN  100.0         True\n",
      "2        9   10327            .    T     C   NaN   NaN  100.0         True\n",
      "3        9   10329            .    A     G   NaN   NaN  100.0         True\n",
      "4        9   10362  rs141734683    C    CT   NaN   NaN  100.0         True\n",
      "...    ...     ...          ...  ...   ...   ...   ...    ...          ...\n",
      "1743     9  102730  rs139336184    T     C   NaN   NaN  100.0         True\n",
      "1744     9  102770  rs144149065    T     C   NaN   NaN  100.0         True\n",
      "1745     9  102798  rs186477530    A     G   NaN   NaN  100.0         True\n",
      "1746     9  102814            .    T     A   NaN   NaN  100.0         True\n",
      "1747     9  102827            .    G     T   NaN   NaN  100.0         True\n",
      "\n",
      "[1748 rows x 9 columns]\n"
     ]
    }
   ],
   "source": [
    "#SETUP:\n",
    "\n",
    "import numpy as np\n",
    "#import scipy\n",
    "import pandas\n",
    "import matplotlib as mpl\n",
    "import matplotlib.pyplot as plt\n",
    "%matplotlib inline\n",
    "import seaborn as sns\n",
    "sns.set_style('white')\n",
    "sns.set_style('ticks')\n",
    "sns.set_context('notebook')\n",
    "#import h5py\n",
    "import allel; print('scikit-allel', allel.__version__)\n",
    "print(df)"
   ]
  },
  {
   "cell_type": "code",
   "execution_count": 12,
   "metadata": {},
   "outputs": [
    {
     "name": "stdout",
     "output_type": "stream",
     "text": [
      "0        10163\n",
      "1        10273\n",
      "2        10327\n",
      "3        10329\n",
      "4        10362\n",
      "         ...  \n",
      "1743    102730\n",
      "1744    102770\n",
      "1745    102798\n",
      "1746    102814\n",
      "1747    102827\n",
      "Name: POS, Length: 1748, dtype: int32\n",
      "1\n"
     ]
    }
   ],
   "source": [
    "pos = df['POS'][:]\n",
    "print(pos)\n",
    "print(pos.ndim)"
   ]
  },
  {
   "cell_type": "markdown",
   "metadata": {},
   "source": [
    "##### Defining a plot function:"
   ]
  },
  {
   "cell_type": "code",
   "execution_count": 76,
   "metadata": {},
   "outputs": [],
   "source": [
    "def plot_windowed_variant_density(pos, window_size, title=None):\n",
    "    \n",
    "    # setup windows \n",
    "    bins = np.arange(0, pos.max(), window_size)\n",
    "    \n",
    "    # use window midpoints as x coordinate\n",
    "    x = (bins[1:] + bins[:-1])/2\n",
    "    \n",
    "    # compute variant density in each window\n",
    "    h, _ = np.histogram(pos, bins=bins)\n",
    "    y = h / window_size\n",
    "    print(\"h:\\n\", h, \"Size:\", h.shape)\n",
    "    print(\"_:\\n\", _[:-1], \"Size:\", _[:-1].shape)\n",
    "    print(\"x:\\n\",x, \"Size:\", x.shape)\n",
    "    print(\"y:\\n\",y,\"Size:\", y.shape)\n",
    "    # plot\n",
    "    fig, ax = plt.subplots(figsize=(12, 3))\n",
    "    #ax.plot(x, y)\n",
    "    \n",
    "    #ax.bar(x,y, align='edge')\n",
    "    #ax.bar(_[:-1], h)\n",
    "    ax.plot(_[:-1], h)\n",
    "    \n",
    "    #ax.pcolorfast([30,31])\n",
    "    ax.set_xlabel('Chromosome position (bp)')\n",
    "    ax.set_ylabel('Variant density (bp$^{-1}$)')\n",
    "    if title:\n",
    "        ax.set_title(title)"
   ]
  },
  {
   "cell_type": "code",
   "execution_count": 77,
   "metadata": {},
   "outputs": [
    {
     "name": "stdout",
     "output_type": "stream",
     "text": [
      "h:\n",
      " [ 0  0  0  0  0  0  0  0  0  0  0  0  0  0  0  0  0  0  0  0  7 30  7  2\n",
      "  4  5  0  2  6 18  2 10  3 10 23  3  0  0  0  0  0  1  0  0  2  0  1  2\n",
      "  0  0  3  2  1  0  3  0  5  5  0  2  0  2  0  0  3  3  1  0  0  0  0  1\n",
      "  0  0  0  0  1  1  7 11 19 11 29 12 28 12 10 18 18  9 16 18 14 16 22 18\n",
      " 15 22  5  1 15 21  2  7 10 15  7 14 11 14 10  6  6 12 13 20 21 20  9  1\n",
      " 21 11 26 22  9  8 18 12  7  7  6  7  0  0  0  9  5  6  2  9  5  8  2  9\n",
      "  3 17 26 22 15  5 12 12  9  4 12  0  9 13  2  5  7 16 14 15 14  5 39 39\n",
      "  2  4 10 14 17 17  6  9 19 10  5 12  7 14 11 16  8 10 24 12 18  8 11 20\n",
      "  1  9 19 13 17  6 10 19 18 21 31 10 10] Size: (205,)\n",
      "_:\n",
      " [     0    500   1000   1500   2000   2500   3000   3500   4000   4500\n",
      "   5000   5500   6000   6500   7000   7500   8000   8500   9000   9500\n",
      "  10000  10500  11000  11500  12000  12500  13000  13500  14000  14500\n",
      "  15000  15500  16000  16500  17000  17500  18000  18500  19000  19500\n",
      "  20000  20500  21000  21500  22000  22500  23000  23500  24000  24500\n",
      "  25000  25500  26000  26500  27000  27500  28000  28500  29000  29500\n",
      "  30000  30500  31000  31500  32000  32500  33000  33500  34000  34500\n",
      "  35000  35500  36000  36500  37000  37500  38000  38500  39000  39500\n",
      "  40000  40500  41000  41500  42000  42500  43000  43500  44000  44500\n",
      "  45000  45500  46000  46500  47000  47500  48000  48500  49000  49500\n",
      "  50000  50500  51000  51500  52000  52500  53000  53500  54000  54500\n",
      "  55000  55500  56000  56500  57000  57500  58000  58500  59000  59500\n",
      "  60000  60500  61000  61500  62000  62500  63000  63500  64000  64500\n",
      "  65000  65500  66000  66500  67000  67500  68000  68500  69000  69500\n",
      "  70000  70500  71000  71500  72000  72500  73000  73500  74000  74500\n",
      "  75000  75500  76000  76500  77000  77500  78000  78500  79000  79500\n",
      "  80000  80500  81000  81500  82000  82500  83000  83500  84000  84500\n",
      "  85000  85500  86000  86500  87000  87500  88000  88500  89000  89500\n",
      "  90000  90500  91000  91500  92000  92500  93000  93500  94000  94500\n",
      "  95000  95500  96000  96500  97000  97500  98000  98500  99000  99500\n",
      " 100000 100500 101000 101500 102000] Size: (205,)\n",
      "x:\n",
      " [   250.    750.   1250.   1750.   2250.   2750.   3250.   3750.   4250.\n",
      "   4750.   5250.   5750.   6250.   6750.   7250.   7750.   8250.   8750.\n",
      "   9250.   9750.  10250.  10750.  11250.  11750.  12250.  12750.  13250.\n",
      "  13750.  14250.  14750.  15250.  15750.  16250.  16750.  17250.  17750.\n",
      "  18250.  18750.  19250.  19750.  20250.  20750.  21250.  21750.  22250.\n",
      "  22750.  23250.  23750.  24250.  24750.  25250.  25750.  26250.  26750.\n",
      "  27250.  27750.  28250.  28750.  29250.  29750.  30250.  30750.  31250.\n",
      "  31750.  32250.  32750.  33250.  33750.  34250.  34750.  35250.  35750.\n",
      "  36250.  36750.  37250.  37750.  38250.  38750.  39250.  39750.  40250.\n",
      "  40750.  41250.  41750.  42250.  42750.  43250.  43750.  44250.  44750.\n",
      "  45250.  45750.  46250.  46750.  47250.  47750.  48250.  48750.  49250.\n",
      "  49750.  50250.  50750.  51250.  51750.  52250.  52750.  53250.  53750.\n",
      "  54250.  54750.  55250.  55750.  56250.  56750.  57250.  57750.  58250.\n",
      "  58750.  59250.  59750.  60250.  60750.  61250.  61750.  62250.  62750.\n",
      "  63250.  63750.  64250.  64750.  65250.  65750.  66250.  66750.  67250.\n",
      "  67750.  68250.  68750.  69250.  69750.  70250.  70750.  71250.  71750.\n",
      "  72250.  72750.  73250.  73750.  74250.  74750.  75250.  75750.  76250.\n",
      "  76750.  77250.  77750.  78250.  78750.  79250.  79750.  80250.  80750.\n",
      "  81250.  81750.  82250.  82750.  83250.  83750.  84250.  84750.  85250.\n",
      "  85750.  86250.  86750.  87250.  87750.  88250.  88750.  89250.  89750.\n",
      "  90250.  90750.  91250.  91750.  92250.  92750.  93250.  93750.  94250.\n",
      "  94750.  95250.  95750.  96250.  96750.  97250.  97750.  98250.  98750.\n",
      "  99250.  99750. 100250. 100750. 101250. 101750. 102250.] Size: (205,)\n",
      "y:\n",
      " [0.    0.    0.    0.    0.    0.    0.    0.    0.    0.    0.    0.\n",
      " 0.    0.    0.    0.    0.    0.    0.    0.    0.014 0.06  0.014 0.004\n",
      " 0.008 0.01  0.    0.004 0.012 0.036 0.004 0.02  0.006 0.02  0.046 0.006\n",
      " 0.    0.    0.    0.    0.    0.002 0.    0.    0.004 0.    0.002 0.004\n",
      " 0.    0.    0.006 0.004 0.002 0.    0.006 0.    0.01  0.01  0.    0.004\n",
      " 0.    0.004 0.    0.    0.006 0.006 0.002 0.    0.    0.    0.    0.002\n",
      " 0.    0.    0.    0.    0.002 0.002 0.014 0.022 0.038 0.022 0.058 0.024\n",
      " 0.056 0.024 0.02  0.036 0.036 0.018 0.032 0.036 0.028 0.032 0.044 0.036\n",
      " 0.03  0.044 0.01  0.002 0.03  0.042 0.004 0.014 0.02  0.03  0.014 0.028\n",
      " 0.022 0.028 0.02  0.012 0.012 0.024 0.026 0.04  0.042 0.04  0.018 0.002\n",
      " 0.042 0.022 0.052 0.044 0.018 0.016 0.036 0.024 0.014 0.014 0.012 0.014\n",
      " 0.    0.    0.    0.018 0.01  0.012 0.004 0.018 0.01  0.016 0.004 0.018\n",
      " 0.006 0.034 0.052 0.044 0.03  0.01  0.024 0.024 0.018 0.008 0.024 0.\n",
      " 0.018 0.026 0.004 0.01  0.014 0.032 0.028 0.03  0.028 0.01  0.078 0.078\n",
      " 0.004 0.008 0.02  0.028 0.034 0.034 0.012 0.018 0.038 0.02  0.01  0.024\n",
      " 0.014 0.028 0.022 0.032 0.016 0.02  0.048 0.024 0.036 0.016 0.022 0.04\n",
      " 0.002 0.018 0.038 0.026 0.034 0.012 0.02  0.038 0.036 0.042 0.062 0.02\n",
      " 0.02 ] Size: (205,)\n"
     ]
    },
    {
     "data": {
      "image/png": "[encoded data removed]",
      "text/plain": [
       "<Figure size 1200x300 with 1 Axes>"
      ]
     },
     "metadata": {},
     "output_type": "display_data"
    }
   ],
   "source": [
    "plot_windowed_variant_density(pos, window_size=500, title='Raw variant density') #500:100000  is a good ratio\n",
    "#plot_windowed_variant_density(pos, window_size=1000, title='Raw variant density') #Too wide a window flattens it out\n",
    "#fig=np.histogram(pos,np.arange(0, pos.max(), 1000))"
   ]
  },
  {
   "cell_type": "markdown",
   "metadata": {},
   "source": [
    "#### Plotting a Histogram:"
   ]
  },
  {
   "cell_type": "code",
   "execution_count": 15,
   "metadata": {},
   "outputs": [],
   "source": [
    "def plot_variant_hist(f, bins=30):\n",
    " x = df[f][:]\n",
    " fig, ax = plt.subplots(figsize=(13, 5))\n",
    " sns.despine(ax=ax, offset=5)\n",
    " ax.hist(x, bins=bins)\n",
    " ax.set_xlabel(f)\n",
    " ax.set_ylabel('No. variants')\n",
    " #ax.pcolor()\n",
    " ax.set_title('Variant %s distribution' % f)"
   ]
  },
  {
   "cell_type": "code",
   "execution_count": 16,
   "metadata": {},
   "outputs": [
    {
     "data": {
      "image/png": "[encoded data removed]",
      "text/plain": [
       "<Figure size 1300x500 with 1 Axes>"
      ]
     },
     "execution_count": 16,
     "metadata": {},
     "output_type": "execute_result"
    }
   ],
   "source": [
    "from matplotlib import colors\n",
    "\n",
    "only_long = df[[len(ref)>1 for ref in df[\"REF\"]]] #This doesn't work\n",
    "only_long = [len(ref)>1 for ref in df[\"REF\"]]\n",
    "# long_2 = df[[len(ref)>2 for ref in df[\"REF\"]]]\n",
    "long_2 = [len(ref)>2 for ref in df[\"REF\"]]\n",
    "nuc_list = ['A','C','G','T']\n",
    "noACGT = df[df[\"REF\"].isin(nuc_list)==False]\n",
    "#plot_variant_hist(\"REF\", bins=50)\n",
    "#plot_variant_hist(\"ALT_1\", bins=50)\n",
    "\n",
    "fig = mpl.figure.Figure(figsize=(13, 5),dpi = 100)\n",
    "axis = fig.add_subplot(1,1,1)\n",
    "axis.plot(df.index,only_long)\n",
    "\n",
    "#fig.ax.plot()\n",
    "ALLELE_COLORS = colors.ListedColormap([\"#00000000\",\"grey\", \"#29E838\", \"#E829D8\", \"#E89829\", \"#2979E8\"])\n",
    "\n",
    "only_few = [len(ref)<2 for ref in df[\"REF\"]]\n",
    "fig_few = mpl.figure.Figure(figsize=(13, 5),dpi = 100)\n",
    "axis = fig_few.add_subplot(1,1,1)\n",
    "axis.plot(df.index,only_few)\n",
    "\n",
    "fig_long_2 = mpl.figure.Figure(figsize=(13, 5),dpi = 100)\n",
    "axis = fig_long_2.add_subplot(1,1,1)\n",
    "axis.plot(df.index,long_2)\n",
    "\n",
    "fig_few\n",
    "\n",
    "#HEAT MAP FOR LENGTH\n",
    "\n",
    "#plot_variant_hist(\"ALT_2\", bins=50)\n",
    "#plot_variant_hist(\"ALT_3\", bins=50)"
   ]
  },
  {
   "cell_type": "code",
   "execution_count": 17,
   "metadata": {},
   "outputs": [
    {
     "data": {
      "image/png": "[encoded data removed]",
      "text/plain": [
       "<Figure size 1300x500 with 1 Axes>"
      ]
     },
     "execution_count": 17,
     "metadata": {},
     "output_type": "execute_result"
    }
   ],
   "source": [
    "fig"
   ]
  },
  {
   "cell_type": "code",
   "execution_count": 18,
   "metadata": {},
   "outputs": [
    {
     "data": {
      "image/png": "[encoded data removed]",
      "text/plain": [
       "<Figure size 1300x500 with 1 Axes>"
      ]
     },
     "execution_count": 18,
     "metadata": {},
     "output_type": "execute_result"
    }
   ],
   "source": [
    "fig_long_2"
   ]
  },
  {
   "cell_type": "code",
   "execution_count": 19,
   "metadata": {},
   "outputs": [
    {
     "ename": "ModuleNotFoundError",
     "evalue": "No module named 'VCF'",
     "output_type": "error",
     "traceback": [
      "\u001b[1;31m---------------------------------------------------------------------------\u001b[0m",
      "\u001b[1;31mModuleNotFoundError\u001b[0m                       Traceback (most recent call last)",
      "Cell \u001b[1;32mIn[19], line 1\u001b[0m\n\u001b[1;32m----> 1\u001b[0m \u001b[38;5;28;01mfrom\u001b[39;00m \u001b[38;5;21;01mGVDashboard\u001b[39;00m\u001b[38;5;21;01m.\u001b[39;00m\u001b[38;5;21;01mPlot\u001b[39;00m\u001b[38;5;21;01m.\u001b[39;00m\u001b[38;5;21;01mplotInfo\u001b[39;00m \u001b[38;5;28;01mimport\u001b[39;00m ViewInfo_base\n\u001b[0;32m      2\u001b[0m \u001b[38;5;28;01mfrom\u001b[39;00m \u001b[38;5;21;01mGVDashboard\u001b[39;00m\u001b[38;5;21;01m.\u001b[39;00m\u001b[38;5;21;01mVCF\u001b[39;00m\u001b[38;5;21;01m.\u001b[39;00m\u001b[38;5;21;01mdataWrapper\u001b[39;00m \u001b[38;5;28;01mimport\u001b[39;00m VcfDataWrapper \u001b[38;5;28;01mas\u001b[39;00m DataWrapper\n\u001b[0;32m      3\u001b[0m \u001b[38;5;28;01mimport\u001b[39;00m \u001b[38;5;21;01mGVDashboard\u001b[39;00m\u001b[38;5;21;01m.\u001b[39;00m\u001b[38;5;21;01mVCF\u001b[39;00m\u001b[38;5;21;01m.\u001b[39;00m\u001b[38;5;21;01mdataWrapper\u001b[39;00m \u001b[38;5;28;01mas\u001b[39;00m \u001b[38;5;21;01mdw\u001b[39;00m\n",
      "File \u001b[1;32mc:\\Users\\pragn\\Desktop\\Uni\\Investigation Project\\Phase 1 - Software dev till 1st rnd usr tsts\\Genome_Visualiser\\GVDashboard\\Plot\\plotInfo.py:4\u001b[0m\n\u001b[0;32m      1\u001b[0m \u001b[38;5;66;03m# This script contains simple constructors for various plot types\u001b[39;00m\n\u001b[0;32m      2\u001b[0m \u001b[38;5;28;01mimport\u001b[39;00m \u001b[38;5;21;01mnumpy\u001b[39;00m \u001b[38;5;28;01mas\u001b[39;00m \u001b[38;5;21;01mnp\u001b[39;00m\n\u001b[1;32m----> 4\u001b[0m \u001b[38;5;28;01mfrom\u001b[39;00m \u001b[38;5;21;01mVCF\u001b[39;00m\u001b[38;5;21;01m.\u001b[39;00m\u001b[38;5;21;01mdataWrapper\u001b[39;00m \u001b[38;5;28;01mimport\u001b[39;00m VcfDataWrapper \u001b[38;5;28;01mas\u001b[39;00m DataWrapper\n\u001b[0;32m      5\u001b[0m \u001b[38;5;28;01mimport\u001b[39;00m \u001b[38;5;21;01mVCF\u001b[39;00m\u001b[38;5;21;01m.\u001b[39;00m\u001b[38;5;21;01mdataWrapper\u001b[39;00m \u001b[38;5;28;01mas\u001b[39;00m \u001b[38;5;21;01mdw\u001b[39;00m\n\u001b[0;32m      6\u001b[0m \u001b[38;5;28;01mfrom\u001b[39;00m \u001b[38;5;21;01mVCF\u001b[39;00m\u001b[38;5;21;01m.\u001b[39;00m\u001b[38;5;21;01mfilterInfo\u001b[39;00m \u001b[38;5;28;01mimport\u001b[39;00m DataSetInfo\n",
      "\u001b[1;31mModuleNotFoundError\u001b[0m: No module named 'VCF'"
     ]
    }
   ],
   "source": [
    "\n",
    "\n",
    "from GVDashboard.Plot.plotInfo import ViewInfo_base\n",
    "from GVDashboard.VCF.dataWrapper import VcfDataWrapper as DataWrapper\n",
    "import GVDashboard.VCF.dataWrapper as dw\n",
    "from GVDashboard.VCF.filterInfo import DataSetInfo\n",
    "\n",
    "from matplotlib import colors\n",
    "from matplotlib.figure import Figure as Figure\n",
    "from matplotlib.axes import Axes as Axes\n",
    "from matplotlib.gridspec import GridSpec as GridSpec\n",
    "# ========================================================================\n",
    "# ========================================================================\n",
    "\n",
    "# Plotter for zygosity view\n",
    "class VariantView(ViewInfo_base):\n",
    "    def __init__(self) -> None:\n",
    "        self.max_weight = 100\n",
    "        self.colors = colors.ListedColormap([\"#00000000\",\"#002164\", \"g\", \"y\"])\n",
    "        super().__init__()\n",
    "    def get_hight_weights(self,wrapped_data:DataWrapper) -> list[int]:\n",
    "        return [min(wrapped_data.n_samples,self.max_weight)]\n",
    "    def make_plots(self, fig: Figure, gs: GridSpec, start_index: int, wrapped_data: DataWrapper, ref_x:Axes|None)->Axes:\n",
    "        axis = fig.add_subplot(gs[start_index], sharex = ref_x)\n",
    "        p = axis.pcolorfast(np.matrix(wrapped_data.get_zygosity()), cmap=self.colors, vmax=2, vmin=-1)\n",
    "        self.plots.append(p)\n",
    "        return axis"
   ]
  },
  {
   "cell_type": "code",
   "execution_count": 72,
   "metadata": {},
   "outputs": [
    {
     "ename": "KeyError",
     "evalue": "'[False] not found in axis'",
     "output_type": "error",
     "traceback": [
      "\u001b[1;31m---------------------------------------------------------------------------\u001b[0m",
      "\u001b[1;31mKeyError\u001b[0m                                  Traceback (most recent call last)",
      "Cell \u001b[1;32mIn[72], line 6\u001b[0m\n\u001b[0;32m      1\u001b[0m \u001b[38;5;66;03m#poly_nucli_search = (df.index != (df_REF_A.index)) # or df_REF_C.index or df_REF_G.index or df_REF_T.index))\u001b[39;00m\n\u001b[0;32m      2\u001b[0m \n\u001b[0;32m      3\u001b[0m \u001b[38;5;66;03m#bool_search = (df[\"REF\"].drop ([noA, noC, noG, noT]))\u001b[39;00m\n\u001b[0;32m      4\u001b[0m \u001b[38;5;66;03m#exclude_rows = ([noA, noC, noG, noT])\u001b[39;00m\n\u001b[0;32m      5\u001b[0m \u001b[38;5;66;03m#print(exclude_rows)\u001b[39;00m\n\u001b[1;32m----> 6\u001b[0m New_df \u001b[38;5;241m=\u001b[39m \u001b[43mdf\u001b[49m\u001b[38;5;241;43m.\u001b[39;49m\u001b[43mdrop\u001b[49m\u001b[43m(\u001b[49m\u001b[38;5;124;43m\"\u001b[39;49m\u001b[38;5;124;43mREF\u001b[39;49m\u001b[38;5;124;43m\"\u001b[39;49m\u001b[43m \u001b[49m\u001b[38;5;241;43m==\u001b[39;49m\u001b[38;5;124;43m\"\u001b[39;49m\u001b[38;5;124;43mA\u001b[39;49m\u001b[38;5;124;43m\"\u001b[39;49m\u001b[43m)\u001b[49m\n\u001b[0;32m      7\u001b[0m \u001b[38;5;28mprint\u001b[39m(New_df)\n\u001b[0;32m      8\u001b[0m \u001b[38;5;66;03m# Then get a new dataframe by indexing useing the bool search\u001b[39;00m\n\u001b[0;32m      9\u001b[0m \u001b[38;5;66;03m##New_df = df[bool_search]\u001b[39;00m\n\u001b[0;32m     10\u001b[0m \u001b[38;5;66;03m#print(poly_nucli_search)\u001b[39;00m\n\u001b[0;32m     11\u001b[0m \u001b[38;5;66;03m#df_allele = df[bool_search]\u001b[39;00m\n",
      "File \u001b[1;32mc:\\Users\\pragn\\Desktop\\Uni\\Investigation Project\\Phase 1 - Software dev till 1st rnd usr tsts\\Genome_Visualiser\\.venv\\Lib\\site-packages\\pandas\\core\\frame.py:5581\u001b[0m, in \u001b[0;36mDataFrame.drop\u001b[1;34m(self, labels, axis, index, columns, level, inplace, errors)\u001b[0m\n\u001b[0;32m   5433\u001b[0m \u001b[38;5;28;01mdef\u001b[39;00m \u001b[38;5;21mdrop\u001b[39m(\n\u001b[0;32m   5434\u001b[0m     \u001b[38;5;28mself\u001b[39m,\n\u001b[0;32m   5435\u001b[0m     labels: IndexLabel \u001b[38;5;241m|\u001b[39m \u001b[38;5;28;01mNone\u001b[39;00m \u001b[38;5;241m=\u001b[39m \u001b[38;5;28;01mNone\u001b[39;00m,\n\u001b[1;32m   (...)\u001b[0m\n\u001b[0;32m   5442\u001b[0m     errors: IgnoreRaise \u001b[38;5;241m=\u001b[39m \u001b[38;5;124m\"\u001b[39m\u001b[38;5;124mraise\u001b[39m\u001b[38;5;124m\"\u001b[39m,\n\u001b[0;32m   5443\u001b[0m ) \u001b[38;5;241m-\u001b[39m\u001b[38;5;241m>\u001b[39m DataFrame \u001b[38;5;241m|\u001b[39m \u001b[38;5;28;01mNone\u001b[39;00m:\n\u001b[0;32m   5444\u001b[0m \u001b[38;5;250m    \u001b[39m\u001b[38;5;124;03m\"\"\"\u001b[39;00m\n\u001b[0;32m   5445\u001b[0m \u001b[38;5;124;03m    Drop specified labels from rows or columns.\u001b[39;00m\n\u001b[0;32m   5446\u001b[0m \n\u001b[1;32m   (...)\u001b[0m\n\u001b[0;32m   5579\u001b[0m \u001b[38;5;124;03m            weight  1.0     0.8\u001b[39;00m\n\u001b[0;32m   5580\u001b[0m \u001b[38;5;124;03m    \"\"\"\u001b[39;00m\n\u001b[1;32m-> 5581\u001b[0m     \u001b[38;5;28;01mreturn\u001b[39;00m \u001b[38;5;28;43msuper\u001b[39;49m\u001b[43m(\u001b[49m\u001b[43m)\u001b[49m\u001b[38;5;241;43m.\u001b[39;49m\u001b[43mdrop\u001b[49m\u001b[43m(\u001b[49m\n\u001b[0;32m   5582\u001b[0m \u001b[43m        \u001b[49m\u001b[43mlabels\u001b[49m\u001b[38;5;241;43m=\u001b[39;49m\u001b[43mlabels\u001b[49m\u001b[43m,\u001b[49m\n\u001b[0;32m   5583\u001b[0m \u001b[43m        \u001b[49m\u001b[43maxis\u001b[49m\u001b[38;5;241;43m=\u001b[39;49m\u001b[43maxis\u001b[49m\u001b[43m,\u001b[49m\n\u001b[0;32m   5584\u001b[0m \u001b[43m        \u001b[49m\u001b[43mindex\u001b[49m\u001b[38;5;241;43m=\u001b[39;49m\u001b[43mindex\u001b[49m\u001b[43m,\u001b[49m\n\u001b[0;32m   5585\u001b[0m \u001b[43m        \u001b[49m\u001b[43mcolumns\u001b[49m\u001b[38;5;241;43m=\u001b[39;49m\u001b[43mcolumns\u001b[49m\u001b[43m,\u001b[49m\n\u001b[0;32m   5586\u001b[0m \u001b[43m        \u001b[49m\u001b[43mlevel\u001b[49m\u001b[38;5;241;43m=\u001b[39;49m\u001b[43mlevel\u001b[49m\u001b[43m,\u001b[49m\n\u001b[0;32m   5587\u001b[0m \u001b[43m        \u001b[49m\u001b[43minplace\u001b[49m\u001b[38;5;241;43m=\u001b[39;49m\u001b[43minplace\u001b[49m\u001b[43m,\u001b[49m\n\u001b[0;32m   5588\u001b[0m \u001b[43m        \u001b[49m\u001b[43merrors\u001b[49m\u001b[38;5;241;43m=\u001b[39;49m\u001b[43merrors\u001b[49m\u001b[43m,\u001b[49m\n\u001b[0;32m   5589\u001b[0m \u001b[43m    \u001b[49m\u001b[43m)\u001b[49m\n",
      "File \u001b[1;32mc:\\Users\\pragn\\Desktop\\Uni\\Investigation Project\\Phase 1 - Software dev till 1st rnd usr tsts\\Genome_Visualiser\\.venv\\Lib\\site-packages\\pandas\\core\\generic.py:4788\u001b[0m, in \u001b[0;36mNDFrame.drop\u001b[1;34m(self, labels, axis, index, columns, level, inplace, errors)\u001b[0m\n\u001b[0;32m   4786\u001b[0m \u001b[38;5;28;01mfor\u001b[39;00m axis, labels \u001b[38;5;129;01min\u001b[39;00m axes\u001b[38;5;241m.\u001b[39mitems():\n\u001b[0;32m   4787\u001b[0m     \u001b[38;5;28;01mif\u001b[39;00m labels \u001b[38;5;129;01mis\u001b[39;00m \u001b[38;5;129;01mnot\u001b[39;00m \u001b[38;5;28;01mNone\u001b[39;00m:\n\u001b[1;32m-> 4788\u001b[0m         obj \u001b[38;5;241m=\u001b[39m \u001b[43mobj\u001b[49m\u001b[38;5;241;43m.\u001b[39;49m\u001b[43m_drop_axis\u001b[49m\u001b[43m(\u001b[49m\u001b[43mlabels\u001b[49m\u001b[43m,\u001b[49m\u001b[43m \u001b[49m\u001b[43maxis\u001b[49m\u001b[43m,\u001b[49m\u001b[43m \u001b[49m\u001b[43mlevel\u001b[49m\u001b[38;5;241;43m=\u001b[39;49m\u001b[43mlevel\u001b[49m\u001b[43m,\u001b[49m\u001b[43m \u001b[49m\u001b[43merrors\u001b[49m\u001b[38;5;241;43m=\u001b[39;49m\u001b[43merrors\u001b[49m\u001b[43m)\u001b[49m\n\u001b[0;32m   4790\u001b[0m \u001b[38;5;28;01mif\u001b[39;00m inplace:\n\u001b[0;32m   4791\u001b[0m     \u001b[38;5;28mself\u001b[39m\u001b[38;5;241m.\u001b[39m_update_inplace(obj)\n",
      "File \u001b[1;32mc:\\Users\\pragn\\Desktop\\Uni\\Investigation Project\\Phase 1 - Software dev till 1st rnd usr tsts\\Genome_Visualiser\\.venv\\Lib\\site-packages\\pandas\\core\\generic.py:4830\u001b[0m, in \u001b[0;36mNDFrame._drop_axis\u001b[1;34m(self, labels, axis, level, errors, only_slice)\u001b[0m\n\u001b[0;32m   4828\u001b[0m         new_axis \u001b[38;5;241m=\u001b[39m axis\u001b[38;5;241m.\u001b[39mdrop(labels, level\u001b[38;5;241m=\u001b[39mlevel, errors\u001b[38;5;241m=\u001b[39merrors)\n\u001b[0;32m   4829\u001b[0m     \u001b[38;5;28;01melse\u001b[39;00m:\n\u001b[1;32m-> 4830\u001b[0m         new_axis \u001b[38;5;241m=\u001b[39m \u001b[43maxis\u001b[49m\u001b[38;5;241;43m.\u001b[39;49m\u001b[43mdrop\u001b[49m\u001b[43m(\u001b[49m\u001b[43mlabels\u001b[49m\u001b[43m,\u001b[49m\u001b[43m \u001b[49m\u001b[43merrors\u001b[49m\u001b[38;5;241;43m=\u001b[39;49m\u001b[43merrors\u001b[49m\u001b[43m)\u001b[49m\n\u001b[0;32m   4831\u001b[0m     indexer \u001b[38;5;241m=\u001b[39m axis\u001b[38;5;241m.\u001b[39mget_indexer(new_axis)\n\u001b[0;32m   4833\u001b[0m \u001b[38;5;66;03m# Case for non-unique axis\u001b[39;00m\n\u001b[0;32m   4834\u001b[0m \u001b[38;5;28;01melse\u001b[39;00m:\n",
      "File \u001b[1;32mc:\\Users\\pragn\\Desktop\\Uni\\Investigation Project\\Phase 1 - Software dev till 1st rnd usr tsts\\Genome_Visualiser\\.venv\\Lib\\site-packages\\pandas\\core\\indexes\\base.py:7070\u001b[0m, in \u001b[0;36mIndex.drop\u001b[1;34m(self, labels, errors)\u001b[0m\n\u001b[0;32m   7068\u001b[0m \u001b[38;5;28;01mif\u001b[39;00m mask\u001b[38;5;241m.\u001b[39many():\n\u001b[0;32m   7069\u001b[0m     \u001b[38;5;28;01mif\u001b[39;00m errors \u001b[38;5;241m!=\u001b[39m \u001b[38;5;124m\"\u001b[39m\u001b[38;5;124mignore\u001b[39m\u001b[38;5;124m\"\u001b[39m:\n\u001b[1;32m-> 7070\u001b[0m         \u001b[38;5;28;01mraise\u001b[39;00m \u001b[38;5;167;01mKeyError\u001b[39;00m(\u001b[38;5;124mf\u001b[39m\u001b[38;5;124m\"\u001b[39m\u001b[38;5;132;01m{\u001b[39;00mlabels[mask]\u001b[38;5;241m.\u001b[39mtolist()\u001b[38;5;132;01m}\u001b[39;00m\u001b[38;5;124m not found in axis\u001b[39m\u001b[38;5;124m\"\u001b[39m)\n\u001b[0;32m   7071\u001b[0m     indexer \u001b[38;5;241m=\u001b[39m indexer[\u001b[38;5;241m~\u001b[39mmask]\n\u001b[0;32m   7072\u001b[0m \u001b[38;5;28;01mreturn\u001b[39;00m \u001b[38;5;28mself\u001b[39m\u001b[38;5;241m.\u001b[39mdelete(indexer)\n",
      "\u001b[1;31mKeyError\u001b[0m: '[False] not found in axis'"
     ]
    }
   ],
   "source": [
    "#poly_nucli_search = (df.index != (df_REF_A.index)) # or df_REF_C.index or df_REF_G.index or df_REF_T.index))\n",
    "\n",
    "#bool_search = (df[\"REF\"].drop ([noA, noC, noG, noT]))\n",
    "#exclude_rows = ([noA, noC, noG, noT])\n",
    "#print(exclude_rows)\n",
    "New_df = df.drop(\"REF\" ==\"A\")\n",
    "print(New_df)\n",
    "# Then get a new dataframe by indexing useing the bool search\n",
    "##New_df = df[bool_search]\n",
    "#print(poly_nucli_search)\n",
    "#df_allele = df[bool_search]"
   ]
  },
  {
   "cell_type": "markdown",
   "metadata": {},
   "source": [
    "# Week 2 (Tuesday - Friday)"
   ]
  },
  {
   "cell_type": "code",
   "execution_count": 2,
   "metadata": {},
   "outputs": [
    {
     "name": "stdout",
     "output_type": "stream",
     "text": [
      "scikit-allel 1.3.11\n"
     ]
    }
   ],
   "source": [
    "# This notebook serves as a testing space for visualiser functions\n",
    "import numpy as np\n",
    "##import scipy\n",
    "#import pandas\n",
    "import matplotlib as mpl\n",
    "import matplotlib.pyplot as plt\n",
    "import allel\n",
    "import allel as al\n",
    "import os\n",
    "import seaborn as sns\n",
    "print('scikit-allel', allel.__version__)"
   ]
  },
  {
   "cell_type": "code",
   "execution_count": 3,
   "metadata": {},
   "outputs": [],
   "source": [
    "#store VCF data as a variable:\n",
    "from os import path\n",
    "data_path = path.realpath(\"./Data/afr-small.vcf\")\n",
    "data_set = allel.read_vcf(data_path, fields = '*')"
   ]
  },
  {
   "cell_type": "code",
   "execution_count": 5,
   "metadata": {},
   "outputs": [
    {
     "name": "stdout",
     "output_type": "stream",
     "text": [
      "dict_keys(['samples', 'calldata/GT', 'variants/ALT', 'variants/CHROM', 'variants/FILTER_PASS', 'variants/ID', 'variants/POS', 'variants/QUAL', 'variants/REF'])\n",
      "Empty DataFrame\n",
      "Columns: [CHROM, POS, ID, REF, ALT_1, ALT_2, ALT_3, QUAL, FILTER_PASS]\n",
      "Index: []\n"
     ]
    }
   ],
   "source": [
    "TEST_FILE = os.path.realpath(\"./Data/afr-small.vcf\") # Path to the vcf file used for testing\n",
    "\n",
    "def getData()->dict:\n",
    "    return al.read_vcf(TEST_FILE)\n",
    "\n",
    "   \n",
    "if __name__ == \"__main__\":\n",
    "    data = getData()\n",
    "    df = al.vcf_to_dataframe(TEST_FILE)\n",
    "    print(data.keys())\n",
    "    bool_search = (df[\"QUAL\"].between(30, 35, inclusive = 'both')) & (df[\"POS\"]<15000)\n",
    "    new_df = df[bool_search]\n",
    "    print(new_df)\n",
    "\n",
    "    #print(al.GenotypeArray(data['calldata/GT'])[bool_search,:])\n"
   ]
  },
  {
   "cell_type": "markdown",
   "metadata": {},
   "source": [
    "##### VCF Data Keys"
   ]
  },
  {
   "cell_type": "code",
   "execution_count": 6,
   "metadata": {},
   "outputs": [
    {
     "data": {
      "text/plain": [
       "['calldata/GT',\n",
       " 'samples',\n",
       " 'variants/AA',\n",
       " 'variants/AC',\n",
       " 'variants/AF',\n",
       " 'variants/AFR_AF',\n",
       " 'variants/ALT',\n",
       " 'variants/AMR_AF',\n",
       " 'variants/AN',\n",
       " 'variants/CHROM',\n",
       " 'variants/CIEND',\n",
       " 'variants/CIPOS',\n",
       " 'variants/CS',\n",
       " 'variants/DP',\n",
       " 'variants/EAS_AF',\n",
       " 'variants/END',\n",
       " 'variants/EUR_AF',\n",
       " 'variants/FILTER_PASS',\n",
       " 'variants/ID',\n",
       " 'variants/IMPRECISE',\n",
       " 'variants/MC',\n",
       " 'variants/MEINFO',\n",
       " 'variants/MEND',\n",
       " 'variants/MLEN',\n",
       " 'variants/MSTART',\n",
       " 'variants/NS',\n",
       " 'variants/POS',\n",
       " 'variants/QUAL',\n",
       " 'variants/REF',\n",
       " 'variants/SAS_AF',\n",
       " 'variants/SVLEN',\n",
       " 'variants/SVTYPE',\n",
       " 'variants/TSD',\n",
       " 'variants/altlen',\n",
       " 'variants/is_snp',\n",
       " 'variants/numalt']"
      ]
     },
     "execution_count": 6,
     "metadata": {},
     "output_type": "execute_result"
    }
   ],
   "source": [
    "#Print all fields and key-value-pairs that can access NumPy array data \n",
    "sorted(data_set.keys())"
   ]
  },
  {
   "cell_type": "markdown",
   "metadata": {},
   "source": [
    "##### Store dictionary array keys as constants"
   ]
  },
  {
   "cell_type": "code",
   "execution_count": 7,
   "metadata": {},
   "outputs": [],
   "source": [
    "# Constants used for indexing VCF dictionary\n",
    "SAMPLES = 'samples'\n",
    "DATA = 'calldata/GT'\n",
    "ID = 'variants/ID'\n",
    "REF = 'variants/REF'\n",
    "ALT = 'variants/ALT'\n",
    "POS = 'variants/POS'\n",
    "QUAL = 'variants/QUAL'\n",
    "FILT = 'variants/FILTER_PASS'\n",
    "\n",
    "# Constants to index for VCF information annotations\n"
   ]
  },
  {
   "cell_type": "markdown",
   "metadata": {},
   "source": [
    "To evaluate a population:\n",
    "* First check 'samples', mark that position and then,\n",
    "* pull all corresponding info from the other columns:\n",
    "` 'calldata/GT', 'variants/ALT', 'variants/CHROM', 'variants/FILTER_PASS', 'variants/ID', 'variants/POS', 'variants/QUAL', 'variants/REF' `"
   ]
  },
  {
   "cell_type": "code",
   "execution_count": null,
   "metadata": {},
   "outputs": [],
   "source": [
    "## For INFO & FORMAT strings\n",
    "\n",
    "## For population seperation:\n",
    "stringcontains\n",
    "a = ['Geeks-13', 'for-56', 'Geeks-78', 'xyz-46']\n",
    "for i in a:\n",
    "    if i.__contains__(\"Geeks\"):\n",
    "        print(f\"Yes! {i} is containing.\")\n",
    "\n",
    "# Iterating over a String\n",
    "print(\"String Iteration\")\n",
    "\n",
    "s = \"Geeks\"\n",
    "for i in s:\n",
    "    print(i)\n",
    "    \n",
    "########\n"
   ]
  },
  {
   "cell_type": "code",
   "execution_count": 8,
   "metadata": {},
   "outputs": [],
   "source": [
    "###What do data keys give:\n",
    "\n",
    "#data_set['samples'] #samples from header lines   \n",
    "## need to dtr max number of samples\n",
    "\n",
    "#data_set['variants/CHROM']\n",
    "# ## all data is for chromosome 9\n",
    "\n",
    "#data_set['variants/POS']\n",
    "## array([ 10163,  10273,  10327, ..., 102798, 102814, 102827], dtype=int32)  With gaps\n",
    "##Consider gaps!!!!\n",
    "\n",
    "#data_set['variants/QUAL']\n",
    "## quality of data at each position\n",
    "\n",
    "#data_set['calldata/GT']\n",
    "##shows zygosity\n",
    "\n",
    "#data_set[FILT]\n",
    "## Gives true or false... \n",
    "\n",
    "#See GentotypeArray class documentation:\n",
    "#https://scikit-allel.readthedocs.io/en/latest/model/ndarray.html#allel.model.ndarray.GenotypeArray"
   ]
  },
  {
   "cell_type": "markdown",
   "metadata": {},
   "source": [
    "##### For Zygosity (Genotype) data"
   ]
  },
  {
   "cell_type": "code",
   "execution_count": 9,
   "metadata": {},
   "outputs": [
    {
     "data": {
      "text/plain": [
       "array([10,  0,  1, ...,  0,  0,  1])"
      ]
     },
     "execution_count": 9,
     "metadata": {},
     "output_type": "execute_result"
    }
   ],
   "source": [
    "hetero_data = allel.GenotypeArray(data_set[DATA])\n",
    "het_bool_array = hetero_data.is_het()\n",
    "\n",
    "# Count heterozygous calls; Summing over variants (axis=0) or samples (axis=1)\n",
    "hetero_data.count_het(axis=1)"
   ]
  },
  {
   "cell_type": "markdown",
   "metadata": {},
   "source": [
    "##### **For Frequency Filtering (code tut 2)**"
   ]
  },
  {
   "cell_type": "code",
   "execution_count": 45,
   "metadata": {},
   "outputs": [
    {
     "data": {
      "text/html": [
       "<div class=\"allel allel-DisplayAs1D\"><span>&lt;SortedIndex shape=(1748,) dtype=int32&gt;</span><table><thead><tr><th style=\"text-align: center\">0</th><th style=\"text-align: center\">1</th><th style=\"text-align: center\">2</th><th style=\"text-align: center\">3</th><th style=\"text-align: center\">4</th><th style=\"text-align: center\">...</th><th style=\"text-align: center\">1743</th><th style=\"text-align: center\">1744</th><th style=\"text-align: center\">1745</th><th style=\"text-align: center\">1746</th><th style=\"text-align: center\">1747</th></tr></thead><tbody><tr><td style=\"text-align: center\">np.int32(10163)</td><td style=\"text-align: center\">np.int32(10273)</td><td style=\"text-align: center\">np.int32(10327)</td><td style=\"text-align: center\">np.int32(10329)</td><td style=\"text-align: center\">np.int32(10362)</td><td style=\"text-align: center\">...</td><td style=\"text-align: center\">np.int32(102730)</td><td style=\"text-align: center\">np.int32(102770)</td><td style=\"text-align: center\">np.int32(102798)</td><td style=\"text-align: center\">np.int32(102814)</td><td style=\"text-align: center\">np.int32(102827)</td></tr></tbody></table></div>"
      ],
      "text/plain": [
       "<SortedIndex shape=(1748,) dtype=int32>\n",
       "[np.int32(10163), np.int32(10273), np.int32(10327), np.int32(10329), np.int32(10362), ..., np.int32(102730), np.int32(102770), np.int32(102798), np.int32(102814), np.int32(102827)]"
      ]
     },
     "execution_count": 45,
     "metadata": {},
     "output_type": "execute_result"
    }
   ],
   "source": [
    "# load all variant positions on chromosome 9\n",
    "chrom = data_set['variants/CHROM']\n",
    "pos_all = allel.SortedIndex(data_set['variants/POS'])\n",
    "pos_all\n",
    "##1748 positions in afr-small"
   ]
  },
  {
   "cell_type": "code",
   "execution_count": 55,
   "metadata": {},
   "outputs": [
    {
     "data": {
      "text/plain": [
       "array([[nan, nan, nan],\n",
       "       [nan, nan, nan],\n",
       "       [nan, nan, nan],\n",
       "       ...,\n",
       "       [nan, nan, nan],\n",
       "       [nan, nan, nan],\n",
       "       [nan, nan, nan]], dtype=float32)"
      ]
     },
     "execution_count": 55,
     "metadata": {},
     "output_type": "execute_result"
    }
   ],
   "source": [
    "vari_all = data_set['variants/AMR_AF']\n",
    "vari_all\n"
   ]
  },
  {
   "cell_type": "code",
   "execution_count": 41,
   "metadata": {},
   "outputs": [
    {
     "data": {
      "text/html": [
       "<div class=\"allel allel-DisplayAs2D\"><span>&lt;GenotypeChunkedArray shape=(1748, 504, 2) dtype=int8\n",
       "   nbytes=1.7M\n",
       "   values=numpy.ndarray&gt;</span><table><thead><tr><th></th><th style=\"text-align: center\">0</th><th style=\"text-align: center\">1</th><th style=\"text-align: center\">2</th><th style=\"text-align: center\">3</th><th style=\"text-align: center\">4</th><th style=\"text-align: center\">...</th><th style=\"text-align: center\">499</th><th style=\"text-align: center\">500</th><th style=\"text-align: center\">501</th><th style=\"text-align: center\">502</th><th style=\"text-align: center\">503</th></tr></thead><tbody><tr><th style=\"text-align: center; background-color: white; border-right: 1px solid black; \">0</th><td style=\"text-align: center\">0/0</td><td style=\"text-align: center\">0/0</td><td style=\"text-align: center\">0/0</td><td style=\"text-align: center\">0/0</td><td style=\"text-align: center\">0/0</td><td style=\"text-align: center\">...</td><td style=\"text-align: center\">0/0</td><td style=\"text-align: center\">0/0</td><td style=\"text-align: center\">0/0</td><td style=\"text-align: center\">0/0</td><td style=\"text-align: center\">0/0</td></tr><tr><th style=\"text-align: center; background-color: white; border-right: 1px solid black; \">1</th><td style=\"text-align: center\">0/0</td><td style=\"text-align: center\">0/0</td><td style=\"text-align: center\">0/0</td><td style=\"text-align: center\">0/0</td><td style=\"text-align: center\">0/0</td><td style=\"text-align: center\">...</td><td style=\"text-align: center\">0/0</td><td style=\"text-align: center\">0/0</td><td style=\"text-align: center\">0/0</td><td style=\"text-align: center\">0/0</td><td style=\"text-align: center\">0/0</td></tr><tr><th style=\"text-align: center; background-color: white; border-right: 1px solid black; \">2</th><td style=\"text-align: center\">0/0</td><td style=\"text-align: center\">0/0</td><td style=\"text-align: center\">0/0</td><td style=\"text-align: center\">0/0</td><td style=\"text-align: center\">0/0</td><td style=\"text-align: center\">...</td><td style=\"text-align: center\">0/0</td><td style=\"text-align: center\">0/0</td><td style=\"text-align: center\">0/0</td><td style=\"text-align: center\">0/0</td><td style=\"text-align: center\">0/0</td></tr><tr><th style=\"text-align: center; background-color: white; border-right: 1px solid black; \">...</th><td style=\"text-align: center\" colspan=\"12\">...</td></tr><tr><th style=\"text-align: center; background-color: white; border-right: 1px solid black; \">1745</th><td style=\"text-align: center\">0/0</td><td style=\"text-align: center\">0/0</td><td style=\"text-align: center\">0/0</td><td style=\"text-align: center\">0/0</td><td style=\"text-align: center\">0/0</td><td style=\"text-align: center\">...</td><td style=\"text-align: center\">0/0</td><td style=\"text-align: center\">0/0</td><td style=\"text-align: center\">0/0</td><td style=\"text-align: center\">0/0</td><td style=\"text-align: center\">0/0</td></tr><tr><th style=\"text-align: center; background-color: white; border-right: 1px solid black; \">1746</th><td style=\"text-align: center\">0/0</td><td style=\"text-align: center\">0/0</td><td style=\"text-align: center\">0/0</td><td style=\"text-align: center\">0/0</td><td style=\"text-align: center\">0/0</td><td style=\"text-align: center\">...</td><td style=\"text-align: center\">0/0</td><td style=\"text-align: center\">0/0</td><td style=\"text-align: center\">0/0</td><td style=\"text-align: center\">0/0</td><td style=\"text-align: center\">0/0</td></tr><tr><th style=\"text-align: center; background-color: white; border-right: 1px solid black; \">1747</th><td style=\"text-align: center\">0/0</td><td style=\"text-align: center\">0/0</td><td style=\"text-align: center\">0/0</td><td style=\"text-align: center\">0/0</td><td style=\"text-align: center\">0/0</td><td style=\"text-align: center\">...</td><td style=\"text-align: center\">0/0</td><td style=\"text-align: center\">0/0</td><td style=\"text-align: center\">0/0</td><td style=\"text-align: center\">0/0</td><td style=\"text-align: center\">0/0</td></tr></tbody></table></div>"
      ],
      "text/plain": [
       "<GenotypeChunkedArray shape=(1748, 504, 2) dtype=int8\n",
       "   nbytes=1.7M\n",
       "   values=numpy.ndarray>"
      ]
     },
     "execution_count": 41,
     "metadata": {},
     "output_type": "execute_result"
    }
   ],
   "source": [
    "# Compress data??\n",
    "\n",
    "genotype_all = allel.GenotypeChunkedArray(data_set['calldata/GT'])\n",
    "genotype_all\n",
    "# 503 indiv in the data\n",
    "\n",
    "## Try to compress bigger dataset afr\n",
    "#condition = genotype_all[:, :, 0]\n",
    "#filtered_genotypes = genotype_all.compress(condition, axis=0)\n",
    "#print(filtered_genotypes)"
   ]
  },
  {
   "cell_type": "code",
   "execution_count": 12,
   "metadata": {},
   "outputs": [],
   "source": [
    "### load-in data from a specific chromosome\n",
    "\n",
    "# Error: List, dictionary, set, etc. falls under the category of non hashable objects\n",
    "\n",
    "# chrom = data_set['variants/CHROM']\n",
    "# load all variant positions\n",
    "# pos_all = allel.SortedIndex(data_set[chrom]['variants']['POS'])"
   ]
  },
  {
   "cell_type": "code",
   "execution_count": 28,
   "metadata": {},
   "outputs": [
    {
     "data": {
      "text/plain": [
       "array(['', '', '', ..., '', '', ''], dtype=object)"
      ]
     },
     "execution_count": 28,
     "metadata": {},
     "output_type": "execute_result"
    }
   ],
   "source": [
    "#Metadat table of info???\n",
    "#df_samples = pandas.read_csv('data/2015-09-21/samples.meta.txt', sep='\\t', index_col='index')\n",
    "#df_samples = allel.SortedIndex(\n",
    "\n",
    "#these are empty arrays????\n",
    "SNP_samples = data_set['variants/is_snp']\n",
    "struct_info_1 = data_set['variants/SVLEN']\n",
    "struct_info_2 = data_set['variants/SVTYPE']\n"
   ]
  },
  {
   "cell_type": "code",
   "execution_count": null,
   "metadata": {},
   "outputs": [],
   "source": [
    "def plot_fst(ac1, ac2, pos, blen=2000):\n",
    " \n",
    " fst, se, vb, _ = allel.stats.blockwise_hudson_fst(ac1, ac2, blen) #blen=blen\n",
    " \n",
    " # use the per-block average Fst as the Y coordinate\n",
    " y = vb\n",
    " \n",
    " # use the block centres as the X coordinate\n",
    " x = allel.stats.moving_statistic(pos, statistic=lambda v: (v[0] + v[-1]) / 2, size=blen)\n",
    " \n",
    " # plot\n",
    " fig, ax = plt.subplots(figsize=(10, 4))\n",
    " # sns.despine(ax=ax, offset=5)\n",
    " ax.plot(x, y, 'k-', lw=.5)\n",
    " ax.set_ylabel('$F_{ST}$')\n",
    " ax.set_xlabel('Chromosome 9 position (bp)')\n",
    " ax.set_xlim(0, pos.max())\n",
    "\n",
    "#plot_fst(ac1, ac2, pos)"
   ]
  },
  {
   "cell_type": "markdown",
   "metadata": {},
   "source": [
    "### Joshu's Zygosity Class from dataWrapper.py"
   ]
  },
  {
   "cell_type": "code",
   "execution_count": null,
   "metadata": {},
   "outputs": [],
   "source": [
    "# Conatins vcf query data and returns it in various formats\n",
    "class VcfDataWrapper:\n",
    "    def __init__(self, vcf_data:dict) -> None:\n",
    "\n",
    "        # Tmp data size constriants\n",
    "        # TODO REMOVE THESE\n",
    "        max_vars = 5000\n",
    "        max_samples = 300\n",
    "\n",
    "        vcf_data[SAMPLES] = vcf_data[SAMPLES][:max_samples]\n",
    "        vcf_data[DATA] = vcf_data[DATA][:max_vars,:max_samples,]\n",
    "        vcf_data[REF] = vcf_data[REF][:max_vars]\n",
    "        vcf_data[ALT] = vcf_data[ALT][:max_vars]\n",
    "        vcf_data[ID] = vcf_data[ID][:max_vars]\n",
    "        \n",
    "        # ------------------------\n",
    "        self.data = vcf_data\n",
    "        self.gt_data = GTArr(self.data[DATA])\n",
    "        self.n_samples = len(vcf_data[SAMPLES])\n",
    "        self.n_variants = len(vcf_data[ID])\n",
    "\n",
    "        # clear pre-constructed arrays\n",
    "        self._zygos = None\n",
    "        self._refs = None\n",
    "        self._alts = None\n",
    "\n",
    "    # Returns a matrix of zygosities for each sample variant.\n",
    "    # 0 = no mutation, 1 = heterozygous, 2 = homozygous mutation, -1 = no-data\n",
    "    def get_zygosity(self):\n",
    "        if self._zygos is None: # zygosity not pre-computed\n",
    "            gt_data = self.gt_data\n",
    "            self._zygos = gt_data.is_hom_alt()*2 + gt_data.is_het()*1 + gt_data.is_missing()*(-1)\n",
    "        return self._zygos.transpose()[::-1,:] # Flip order so that firs entry is on the top\n",
    "    \n",
    "    # Returns a list indicating the nucleotide type of ref sequences\n",
    "    # 0 = multi-nucleotide, -1 is no-data\n",
    "    def get_ref(self):\n",
    "        if self._refs is None:\n",
    "            self._refs = alleles_to_numbs(self.data[REF])\n",
    "        return self._refs\n",
    "\n",
    "    def get_alt(self):\n",
    "        if self._alts is None:\n",
    "            self._alts = np.array([alleles_to_numbs(alts) for alts in self.data[ALT]])\n",
    "            filter_mask = np.array([np.max(self._alts,axis=0) >= 0][0]) # filter out empty columns\n",
    "            self._alts = self._alts[:,filter_mask].transpose()[::-1,:] # Put samples on the rows in descending order\n",
    "        return self._alts\n",
    "\n",
    "# Converts and allele character/string to an intagetr\n",
    "# 0 = multi-nucleotide, -1 = n0-data\n",
    "def allele_to_numb(a:str):\n",
    "    if len(a) > 1:\n",
    "        return 0\n",
    "    elif NUCLEOTIDE_DICT.keys().__contains__(a):\n",
    "        return NUCLEOTIDE_DICT[a]\n",
    "    else:\n",
    "        return -1\n",
    "# Converts an array of alleles to numbers\n",
    "def alleles_to_numbs(alleles:np.array):\n",
    "    return [allele_to_numb(a) for a in alleles]\n"
   ]
  },
  {
   "cell_type": "code",
   "execution_count": null,
   "metadata": {},
   "outputs": [],
   "source": []
  }
 ],
 "metadata": {
  "kernelspec": {
   "display_name": ".venv",
   "language": "python",
   "name": "python3"
  },
  "language_info": {
   "codemirror_mode": {
    "name": "ipython",
    "version": 3
   },
   "file_extension": ".py",
   "mimetype": "text/x-python",
   "name": "python",
   "nbconvert_exporter": "python",
   "pygments_lexer": "ipython3",
   "version": "3.11.8"
  }
 },
 "nbformat": 4,
 "nbformat_minor": 2
}
