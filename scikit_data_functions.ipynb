{
 "cells": [
  {
   "cell_type": "code",
   "execution_count": 4,
   "metadata": {},
   "outputs": [
    {
     "name": "stdout",
     "output_type": "stream",
     "text": [
      "scikit-allel 1.3.11\n"
     ]
    }
   ],
   "source": [
    "# This notebook serves as a testing space for visualiser functions\n",
    "import numpy as np\n",
    "##import scipy\n",
    "#import pandas\n",
    "import matplotlib as mpl\n",
    "import matplotlib.pyplot as plt\n",
    "import allel\n",
    "print('scikit-allel', allel.__version__)"
   ]
  },
  {
   "cell_type": "code",
   "execution_count": 5,
   "metadata": {},
   "outputs": [],
   "source": [
    "#store VCF data as a variable:\n",
    "from os import path\n",
    "data_path = path.realpath(\"./Data/afr-small.vcf\")\n",
    "data_set = allel.read_vcf(data_path, fields = '*')"
   ]
  },
  {
   "cell_type": "markdown",
   "metadata": {},
   "source": [
    "##### VCF Data Keys"
   ]
  },
  {
   "cell_type": "code",
   "execution_count": 6,
   "metadata": {},
   "outputs": [
    {
     "data": {
      "text/plain": [
       "['calldata/GT',\n",
       " 'samples',\n",
       " 'variants/AA',\n",
       " 'variants/AC',\n",
       " 'variants/AF',\n",
       " 'variants/AFR_AF',\n",
       " 'variants/ALT',\n",
       " 'variants/AMR_AF',\n",
       " 'variants/AN',\n",
       " 'variants/CHROM',\n",
       " 'variants/CIEND',\n",
       " 'variants/CIPOS',\n",
       " 'variants/CS',\n",
       " 'variants/DP',\n",
       " 'variants/EAS_AF',\n",
       " 'variants/END',\n",
       " 'variants/EUR_AF',\n",
       " 'variants/FILTER_PASS',\n",
       " 'variants/ID',\n",
       " 'variants/IMPRECISE',\n",
       " 'variants/MC',\n",
       " 'variants/MEINFO',\n",
       " 'variants/MEND',\n",
       " 'variants/MLEN',\n",
       " 'variants/MSTART',\n",
       " 'variants/NS',\n",
       " 'variants/POS',\n",
       " 'variants/QUAL',\n",
       " 'variants/REF',\n",
       " 'variants/SAS_AF',\n",
       " 'variants/SVLEN',\n",
       " 'variants/SVTYPE',\n",
       " 'variants/TSD',\n",
       " 'variants/altlen',\n",
       " 'variants/is_snp',\n",
       " 'variants/numalt']"
      ]
     },
     "execution_count": 6,
     "metadata": {},
     "output_type": "execute_result"
    }
   ],
   "source": [
    "#Print all fields and key-value-pairs that can access NumPy array data \n",
    "sorted(data_set.keys())"
   ]
  },
  {
   "cell_type": "markdown",
   "metadata": {},
   "source": [
    "##### Store dictionary array keys as constants"
   ]
  },
  {
   "cell_type": "code",
   "execution_count": 7,
   "metadata": {},
   "outputs": [],
   "source": [
    "# Constants used for indexing VCF dictionary\n",
    "SAMPLES = 'samples'\n",
    "DATA = 'calldata/GT'\n",
    "ID = 'variants/ID'\n",
    "REF = 'variants/REF'\n",
    "ALT = 'variants/ALT'\n",
    "POS = 'variants/POS'\n",
    "QUAL = 'variants/QUAL'\n",
    "FILT = 'variants/FILTER_PASS'\n",
    "\n",
    "# Constants to index for VCF information annotations\n"
   ]
  },
  {
   "cell_type": "code",
   "execution_count": 8,
   "metadata": {},
   "outputs": [],
   "source": [
    "###What do data keys give:\n",
    "\n",
    "#data_set['samples'] #samples from header lines   \n",
    "## need to dtr max number of samples\n",
    "\n",
    "#data_set['variants/CHROM']\n",
    "# ## all data is for chromosome 9\n",
    "\n",
    "#data_set['variants/POS']\n",
    "## array([ 10163,  10273,  10327, ..., 102798, 102814, 102827], dtype=int32)  With gaps\n",
    "##Consider gaps!!!!\n",
    "\n",
    "#data_set['variants/QUAL']\n",
    "## quality of data at each position\n",
    "\n",
    "#data_set['calldata/GT']\n",
    "##shows zygosity\n",
    "\n",
    "#data_set[FILT]\n",
    "## Gives true or false... \n",
    "\n",
    "#See GentotypeArray class documentation:\n",
    "#https://scikit-allel.readthedocs.io/en/latest/model/ndarray.html#allel.model.ndarray.GenotypeArray"
   ]
  },
  {
   "cell_type": "markdown",
   "metadata": {},
   "source": [
    "##### For Zygosity (Genotype) data"
   ]
  },
  {
   "cell_type": "code",
   "execution_count": 9,
   "metadata": {},
   "outputs": [
    {
     "data": {
      "text/plain": [
       "array([10,  0,  1, ...,  0,  0,  1])"
      ]
     },
     "execution_count": 9,
     "metadata": {},
     "output_type": "execute_result"
    }
   ],
   "source": [
    "hetero_data = allel.GenotypeArray(data_set[DATA])\n",
    "het_bool_array = hetero_data.is_het()\n",
    "\n",
    "# Count heterozygous calls; Summing over variants (axis=0) or samples (axis=1)\n",
    "hetero_data.count_het(axis=1)"
   ]
  },
  {
   "cell_type": "markdown",
   "metadata": {},
   "source": [
    "##### **For Frequency Filtering (code tut 2)**"
   ]
  },
  {
   "cell_type": "code",
   "execution_count": 45,
   "metadata": {},
   "outputs": [
    {
     "data": {
      "text/html": [
       "<div class=\"allel allel-DisplayAs1D\"><span>&lt;SortedIndex shape=(1748,) dtype=int32&gt;</span><table><thead><tr><th style=\"text-align: center\">0</th><th style=\"text-align: center\">1</th><th style=\"text-align: center\">2</th><th style=\"text-align: center\">3</th><th style=\"text-align: center\">4</th><th style=\"text-align: center\">...</th><th style=\"text-align: center\">1743</th><th style=\"text-align: center\">1744</th><th style=\"text-align: center\">1745</th><th style=\"text-align: center\">1746</th><th style=\"text-align: center\">1747</th></tr></thead><tbody><tr><td style=\"text-align: center\">np.int32(10163)</td><td style=\"text-align: center\">np.int32(10273)</td><td style=\"text-align: center\">np.int32(10327)</td><td style=\"text-align: center\">np.int32(10329)</td><td style=\"text-align: center\">np.int32(10362)</td><td style=\"text-align: center\">...</td><td style=\"text-align: center\">np.int32(102730)</td><td style=\"text-align: center\">np.int32(102770)</td><td style=\"text-align: center\">np.int32(102798)</td><td style=\"text-align: center\">np.int32(102814)</td><td style=\"text-align: center\">np.int32(102827)</td></tr></tbody></table></div>"
      ],
      "text/plain": [
       "<SortedIndex shape=(1748,) dtype=int32>\n",
       "[np.int32(10163), np.int32(10273), np.int32(10327), np.int32(10329), np.int32(10362), ..., np.int32(102730), np.int32(102770), np.int32(102798), np.int32(102814), np.int32(102827)]"
      ]
     },
     "execution_count": 45,
     "metadata": {},
     "output_type": "execute_result"
    }
   ],
   "source": [
    "# load all variant positions on chromosome 9\n",
    "chrom = data_set['variants/CHROM']\n",
    "pos_all = allel.SortedIndex(data_set['variants/POS'])\n",
    "pos_all\n",
    "##1748 positions in afr-small"
   ]
  },
  {
   "cell_type": "code",
   "execution_count": 55,
   "metadata": {},
   "outputs": [
    {
     "data": {
      "text/plain": [
       "array([[nan, nan, nan],\n",
       "       [nan, nan, nan],\n",
       "       [nan, nan, nan],\n",
       "       ...,\n",
       "       [nan, nan, nan],\n",
       "       [nan, nan, nan],\n",
       "       [nan, nan, nan]], dtype=float32)"
      ]
     },
     "execution_count": 55,
     "metadata": {},
     "output_type": "execute_result"
    }
   ],
   "source": [
    "vari_all = data_set['variants/AMR_AF']\n",
    "vari_all\n"
   ]
  },
  {
   "cell_type": "code",
   "execution_count": 41,
   "metadata": {},
   "outputs": [
    {
     "data": {
      "text/html": [
       "<div class=\"allel allel-DisplayAs2D\"><span>&lt;GenotypeChunkedArray shape=(1748, 504, 2) dtype=int8\n",
       "   nbytes=1.7M\n",
       "   values=numpy.ndarray&gt;</span><table><thead><tr><th></th><th style=\"text-align: center\">0</th><th style=\"text-align: center\">1</th><th style=\"text-align: center\">2</th><th style=\"text-align: center\">3</th><th style=\"text-align: center\">4</th><th style=\"text-align: center\">...</th><th style=\"text-align: center\">499</th><th style=\"text-align: center\">500</th><th style=\"text-align: center\">501</th><th style=\"text-align: center\">502</th><th style=\"text-align: center\">503</th></tr></thead><tbody><tr><th style=\"text-align: center; background-color: white; border-right: 1px solid black; \">0</th><td style=\"text-align: center\">0/0</td><td style=\"text-align: center\">0/0</td><td style=\"text-align: center\">0/0</td><td style=\"text-align: center\">0/0</td><td style=\"text-align: center\">0/0</td><td style=\"text-align: center\">...</td><td style=\"text-align: center\">0/0</td><td style=\"text-align: center\">0/0</td><td style=\"text-align: center\">0/0</td><td style=\"text-align: center\">0/0</td><td style=\"text-align: center\">0/0</td></tr><tr><th style=\"text-align: center; background-color: white; border-right: 1px solid black; \">1</th><td style=\"text-align: center\">0/0</td><td style=\"text-align: center\">0/0</td><td style=\"text-align: center\">0/0</td><td style=\"text-align: center\">0/0</td><td style=\"text-align: center\">0/0</td><td style=\"text-align: center\">...</td><td style=\"text-align: center\">0/0</td><td style=\"text-align: center\">0/0</td><td style=\"text-align: center\">0/0</td><td style=\"text-align: center\">0/0</td><td style=\"text-align: center\">0/0</td></tr><tr><th style=\"text-align: center; background-color: white; border-right: 1px solid black; \">2</th><td style=\"text-align: center\">0/0</td><td style=\"text-align: center\">0/0</td><td style=\"text-align: center\">0/0</td><td style=\"text-align: center\">0/0</td><td style=\"text-align: center\">0/0</td><td style=\"text-align: center\">...</td><td style=\"text-align: center\">0/0</td><td style=\"text-align: center\">0/0</td><td style=\"text-align: center\">0/0</td><td style=\"text-align: center\">0/0</td><td style=\"text-align: center\">0/0</td></tr><tr><th style=\"text-align: center; background-color: white; border-right: 1px solid black; \">...</th><td style=\"text-align: center\" colspan=\"12\">...</td></tr><tr><th style=\"text-align: center; background-color: white; border-right: 1px solid black; \">1745</th><td style=\"text-align: center\">0/0</td><td style=\"text-align: center\">0/0</td><td style=\"text-align: center\">0/0</td><td style=\"text-align: center\">0/0</td><td style=\"text-align: center\">0/0</td><td style=\"text-align: center\">...</td><td style=\"text-align: center\">0/0</td><td style=\"text-align: center\">0/0</td><td style=\"text-align: center\">0/0</td><td style=\"text-align: center\">0/0</td><td style=\"text-align: center\">0/0</td></tr><tr><th style=\"text-align: center; background-color: white; border-right: 1px solid black; \">1746</th><td style=\"text-align: center\">0/0</td><td style=\"text-align: center\">0/0</td><td style=\"text-align: center\">0/0</td><td style=\"text-align: center\">0/0</td><td style=\"text-align: center\">0/0</td><td style=\"text-align: center\">...</td><td style=\"text-align: center\">0/0</td><td style=\"text-align: center\">0/0</td><td style=\"text-align: center\">0/0</td><td style=\"text-align: center\">0/0</td><td style=\"text-align: center\">0/0</td></tr><tr><th style=\"text-align: center; background-color: white; border-right: 1px solid black; \">1747</th><td style=\"text-align: center\">0/0</td><td style=\"text-align: center\">0/0</td><td style=\"text-align: center\">0/0</td><td style=\"text-align: center\">0/0</td><td style=\"text-align: center\">0/0</td><td style=\"text-align: center\">...</td><td style=\"text-align: center\">0/0</td><td style=\"text-align: center\">0/0</td><td style=\"text-align: center\">0/0</td><td style=\"text-align: center\">0/0</td><td style=\"text-align: center\">0/0</td></tr></tbody></table></div>"
      ],
      "text/plain": [
       "<GenotypeChunkedArray shape=(1748, 504, 2) dtype=int8\n",
       "   nbytes=1.7M\n",
       "   values=numpy.ndarray>"
      ]
     },
     "execution_count": 41,
     "metadata": {},
     "output_type": "execute_result"
    }
   ],
   "source": [
    "# Compress data??\n",
    "\n",
    "genotype_all = allel.GenotypeChunkedArray(data_set['calldata/GT'])\n",
    "genotype_all\n",
    "# 503 indiv in the data\n",
    "\n",
    "## Try to compress bigger dataset afr\n",
    "#condition = genotype_all[:, :, 0]\n",
    "#filtered_genotypes = genotype_all.compress(condition, axis=0)\n",
    "#print(filtered_genotypes)"
   ]
  },
  {
   "cell_type": "code",
   "execution_count": 12,
   "metadata": {},
   "outputs": [],
   "source": [
    "### load-in data from a specific chromosome\n",
    "\n",
    "# Error: List, dictionary, set, etc. falls under the category of non hashable objects\n",
    "\n",
    "# chrom = data_set['variants/CHROM']\n",
    "# load all variant positions\n",
    "# pos_all = allel.SortedIndex(data_set[chrom]['variants']['POS'])"
   ]
  },
  {
   "cell_type": "code",
   "execution_count": 28,
   "metadata": {},
   "outputs": [
    {
     "data": {
      "text/plain": [
       "array(['', '', '', ..., '', '', ''], dtype=object)"
      ]
     },
     "execution_count": 28,
     "metadata": {},
     "output_type": "execute_result"
    }
   ],
   "source": [
    "#Metadat table of info???\n",
    "#df_samples = pandas.read_csv('data/2015-09-21/samples.meta.txt', sep='\\t', index_col='index')\n",
    "#df_samples = allel.SortedIndex(\n",
    "\n",
    "#these are empty arrays????\n",
    "SNP_samples = data_set['variants/is_snp']\n",
    "struct_info_1 = data_set['variants/SVLEN']\n",
    "struct_info_2 = data_set['variants/SVTYPE']\n"
   ]
  },
  {
   "cell_type": "code",
   "execution_count": null,
   "metadata": {},
   "outputs": [],
   "source": [
    "def plot_fst(ac1, ac2, pos, blen=2000):\n",
    " \n",
    " fst, se, vb, _ = allel.stats.blockwise_hudson_fst(ac1, ac2, blen) #blen=blen\n",
    " \n",
    " # use the per-block average Fst as the Y coordinate\n",
    " y = vb\n",
    " \n",
    " # use the block centres as the X coordinate\n",
    " x = allel.stats.moving_statistic(pos, statistic=lambda v: (v[0] + v[-1]) / 2, size=blen)\n",
    " \n",
    " # plot\n",
    " fig, ax = plt.subplots(figsize=(10, 4))\n",
    " sns.despine(ax=ax, offset=5)\n",
    " ax.plot(x, y, 'k-', lw=.5)\n",
    " ax.set_ylabel('$F_{ST}$')\n",
    " ax.set_xlabel('Chromosome 9 position (bp)')\n",
    " ax.set_xlim(0, pos.max())\n",
    "\n",
    "#plot_fst(ac1, ac2, pos)"
   ]
  },
  {
   "cell_type": "markdown",
   "metadata": {},
   "source": [
    "### Joshu's Zygosity Class from dataWrapper.py"
   ]
  },
  {
   "cell_type": "code",
   "execution_count": null,
   "metadata": {},
   "outputs": [],
   "source": [
    "# Conatins vcf query data and returns it in various formats\n",
    "class VcfDataWrapper:\n",
    "    def __init__(self, vcf_data:dict) -> None:\n",
    "\n",
    "        # Tmp data size constriants\n",
    "        # TODO REMOVE THESE\n",
    "        max_vars = 5000\n",
    "        max_samples = 300\n",
    "\n",
    "        vcf_data[SAMPLES] = vcf_data[SAMPLES][:max_samples]\n",
    "        vcf_data[DATA] = vcf_data[DATA][:max_vars,:max_samples,]\n",
    "        vcf_data[REF] = vcf_data[REF][:max_vars]\n",
    "        vcf_data[ALT] = vcf_data[ALT][:max_vars]\n",
    "        vcf_data[ID] = vcf_data[ID][:max_vars]\n",
    "        \n",
    "        # ------------------------\n",
    "        self.data = vcf_data\n",
    "        self.gt_data = GTArr(self.data[DATA])\n",
    "        self.n_samples = len(vcf_data[SAMPLES])\n",
    "        self.n_variants = len(vcf_data[ID])\n",
    "\n",
    "        # clear pre-constructed arrays\n",
    "        self._zygos = None\n",
    "        self._refs = None\n",
    "        self._alts = None\n",
    "\n",
    "    # Returns a matrix of zygosities for each sample variant.\n",
    "    # 0 = no mutation, 1 = heterozygous, 2 = homozygous mutation, -1 = no-data\n",
    "    def get_zygosity(self):\n",
    "        if self._zygos is None: # zygosity not pre-computed\n",
    "            gt_data = self.gt_data\n",
    "            self._zygos = gt_data.is_hom_alt()*2 + gt_data.is_het()*1 + gt_data.is_missing()*(-1)\n",
    "        return self._zygos.transpose()[::-1,:] # Flip order so that firs entry is on the top\n",
    "    \n",
    "    # Returns a list indicating the nucleotide type of ref sequences\n",
    "    # 0 = multi-nucleotide, -1 is no-data\n",
    "    def get_ref(self):\n",
    "        if self._refs is None:\n",
    "            self._refs = alleles_to_numbs(self.data[REF])\n",
    "        return self._refs\n",
    "\n",
    "    def get_alt(self):\n",
    "        if self._alts is None:\n",
    "            self._alts = np.array([alleles_to_numbs(alts) for alts in self.data[ALT]])\n",
    "            filter_mask = np.array([np.max(self._alts,axis=0) >= 0][0]) # filter out empty columns\n",
    "            self._alts = self._alts[:,filter_mask].transpose()[::-1,:] # Put samples on the rows in descending order\n",
    "        return self._alts\n",
    "\n",
    "# Converts and allele character/string to an intagetr\n",
    "# 0 = multi-nucleotide, -1 = n0-data\n",
    "def allele_to_numb(a:str):\n",
    "    if len(a) > 1:\n",
    "        return 0\n",
    "    elif NUCLEOTIDE_DICT.keys().__contains__(a):\n",
    "        return NUCLEOTIDE_DICT[a]\n",
    "    else:\n",
    "        return -1\n",
    "# Converts an array of alleles to numbers\n",
    "def alleles_to_numbs(alleles:np.array):\n",
    "    return [allele_to_numb(a) for a in alleles]\n"
   ]
  },
  {
   "cell_type": "code",
   "execution_count": null,
   "metadata": {},
   "outputs": [],
   "source": []
  }
 ],
 "metadata": {
  "kernelspec": {
   "display_name": ".venv",
   "language": "python",
   "name": "python3"
  },
  "language_info": {
   "codemirror_mode": {
    "name": "ipython",
    "version": 3
   },
   "file_extension": ".py",
   "mimetype": "text/x-python",
   "name": "python",
   "nbconvert_exporter": "python",
   "pygments_lexer": "ipython3",
   "version": "3.11.8"
  }
 },
 "nbformat": 4,
 "nbformat_minor": 2
}
